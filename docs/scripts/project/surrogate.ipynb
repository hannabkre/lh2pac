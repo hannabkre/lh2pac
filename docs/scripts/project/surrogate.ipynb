{
 "cells": [
  {
   "cell_type": "markdown",
   "metadata": {},
   "source": [
    "# 4 OAD updates\n",
    "\n",
    "In this project,\n",
    "we seek to optimize an aircraft of approximately 150 passengers that flies at Mach 0.78,\n",
    "using different engine and fuel technologies.\n",
    "\n",
    "## The OAD problem\n",
    "\n",
    "The OAD problem is to find the values of the design parameters \n",
    "that minimize the maximum take-off mass (MTOM, `mtom` in the code) under some operation constraints.\n",
    "Note that the MTOM of an airplane is a good criterion to optimize the design.\n",
    "Alternative objectives are the cash operating cost (COC, `coc` in the code) or the direct operating cost (DOC, `doc` in the code).\n",
    "\n",
    "### The design parameters\n",
    "\n",
    "The **design parameters** are :\n",
    "\n",
    "- the maximum sea level static thrust  (100 kN ≤ slst ≤ 200 kN, default: 150 kN),\n",
    "- the number of passengers  (120 ≤ n_pax ≤ 180, default: 150),\n",
    "- the wing area (100 m² ≤ area ≤ 200 m², default: 180 m²),\n",
    "- the wing aspect ratio  (5 ≤ ar ≤ 20, default: 9.).\n",
    "\n",
    "### The operational constraints\n",
    "\n",
    "The **operational constraints** are :\n",
    "\n",
    "- the take-off field length (tofl ≤ 1900 m),\n",
    "- the approach speed (vapp ≤ 135 kt),\n",
    "- the vertical speed (300 ft/min ≤ vz),\n",
    "- the wing span (span ≤ 40 m),\n",
    "- the wing length (length ≤ 45 m),\n",
    "- the fuel margin (0% ≤ fm).\n",
    "\n",
    "## The uncertain parameters\n",
    "\n",
    "In Problems 2 and 3,\n",
    "some parameters are considered as uncertain.\n",
    "\n",
    "These uncertain parameters are modelled as random variables defined by probability distributions:\n",
    "\n",
    "| Variable | Distribution          | Fuel type | Engine type |\n",
    "|----------|-----------------------|-----------|-------------|\n",
    "| `gi`     | T(0.35, 0.4, 0.405)   | liquid_h2 | All         |\n",
    "| `vi`     | T(0.755, 0.800, 0805) | liquid_h2 | All         |\n",
    "| `aef`    | T(0.99, 1., 1.03)     | All       | All         |\n",
    "| `cef`    | T(0.99, 1., 1.03)     | All       | All         |\n",
    "| `aef`    | T(0.99, 1., 1.03)     | All       | All         |\n",
    "| `fc_pwd` | T(0.8, 1, 1.02)       | liquid_h2 | electrofan  |\n",
    "| `bed`    | U(400,700)            | battery   | All         |\n",
    "\n",
    "where `T(minimum, mode, maximum)` and `U(minimum,maximum)`\n",
    "represent the [triangular distribution](https://en.wikipedia.org/wiki/Triangular_distribution)\n",
    "and the [uniform distribution](https://en.wikipedia.org/wiki/Continuous_uniform_distribution) respectively.\n",
    "the last two columns indicate the type of fuel and the type of engine\n",
    "for which these uncertain parameters are relevant.\n",
    "\n",
    "The parameters `aef`, `cef` and `aef` are related\n",
    "to the three main technical areas involved in aircraft design,\n",
    "namely aerodynamics, propulsion and structure.\n",
    "The lower, the better.\n",
    "These factors are representing the unknown\n",
    "included in any creative activity.\n",
    "Their probability distributions are not symmetrical\n",
    "as it is always easier to make something less efficient than expected...\n",
    "\n",
    "## The 12 models\n",
    "\n",
    "The 12 models are defined in `gemseo-oad` as Python functions:\n",
    "\n"
   ]
  },
  {
   "cell_type": "code",
   "execution_count": 1,
   "metadata": {},
   "outputs": [],
   "source": [
    "from gemseo_oad_training.models import aerodynamic\n",
    "from gemseo_oad_training.models import approach\n",
    "from gemseo_oad_training.models import battery\n",
    "from gemseo_oad_training.models import climb\n",
    "from gemseo_oad_training.models import engine\n",
    "from gemseo_oad_training.models import fuel_tank\n",
    "from gemseo_oad_training.models import geometry\n",
    "from gemseo_oad_training.models import mass\n",
    "from gemseo_oad_training.models import mission\n",
    "from gemseo_oad_training.models import operating_cost\n",
    "from gemseo_oad_training.models import take_off\n",
    "from gemseo_oad_training.models import total_mass"
   ]
  },
  {
   "cell_type": "code",
   "execution_count": 2,
   "metadata": {},
   "outputs": [
    {
     "data": {
      "text/plain": [
       "<RootLogger root (INFO)>"
      ]
     },
     "execution_count": 2,
     "metadata": {},
     "output_type": "execute_result"
    }
   ],
   "source": [
    "from gemseo import configure_logger\n",
    "\n",
    "configure_logger()"
   ]
  },
  {
   "cell_type": "markdown",
   "metadata": {},
   "source": [
    "## Problème 1 - Modélisation par surrogate et optimisation\n",
    "\n",
    "Nous allons créer un modèle de substitution (surrogate model) noté :\n",
    "\n",
    "$$\n",
    "\\hat{f} : x \\mapsto \\hat{f}(x) = f(x, u_{\\mathrm{default}})\n",
    "$$\n",
    "\n",
    "Ce modèle approxime la fonction objectif ainsi que les contraintes du problème de conception, en fonction des paramètres de conception \\(x\\), avec les conditions d'utilisation fixées à $u_{\\mathrm{default}}$.\n",
    "\n",
    "Une fois ce modèle construit, nous l'utiliserons dans un processus d'optimisation pour :\n",
    "\n",
    "- **Minimiser** la fonction objectif,\n",
    "- **Respecter** les contraintes imposées,\n",
    "\n",
    "en faisant varier les paramètres de conception \\(x\\).\n",
    "\n"
   ]
  },
  {
   "cell_type": "markdown",
   "metadata": {},
   "source": [
    "## The units\n",
    "\n",
    "The use cases are written using common units.\n",
    "\n",
    "The models only know STANDARD UNITS which means\n",
    "that all data provided to the function MUST be expressed in standard units\n",
    "and that all data retrieved by the function are expressed in standard units.\n",
    "\n",
    "!!! tip \"Convert units\"\n",
    "    The functions `convert_from` and `convert_to` from `gemseo_oad_training.unit` can make the conversion easier.\n",
    "\n",
    "## The four use cases\n",
    "\n",
    "| Id  | Fuel type | Engine type | Design range (km) |\n",
    "|-----|-----------|-------------|-------------------|\n",
    "| UC1 | Kerosene  | Turbofan    | 5500              |\n",
    "| UC2 | Hydrogen  | Turbofan    | 5500              |\n",
    "| UC3 | Hydrogen  | Electrofan  | 5500              |\n",
    "| UC4 | Battery   | Electrofan  | 500               |"
   ]
  },
  {
   "cell_type": "code",
   "execution_count": 3,
   "metadata": {},
   "outputs": [],
   "source": [
    "# On veut résoudre le problème 1 avec UC1 et UC2\n",
    "from gemseo.disciplines.auto_py import AutoPyDiscipline\n",
    "\n",
    "disciplines = [AutoPyDiscipline(aerodynamic), AutoPyDiscipline(approach), AutoPyDiscipline(battery), AutoPyDiscipline(climb), AutoPyDiscipline(engine), AutoPyDiscipline(fuel_tank), AutoPyDiscipline(geometry), AutoPyDiscipline(mass), AutoPyDiscipline(mission), AutoPyDiscipline(operating_cost), AutoPyDiscipline(take_off), AutoPyDiscipline(total_mass)]"
   ]
  },
  {
   "cell_type": "code",
   "execution_count": 4,
   "metadata": {},
   "outputs": [],
   "source": [
    "# Create the design space\n",
    "from gemseo.algos.design_space import DesignSpace\n",
    "from gemseo_oad_training.unit import convert_from\n",
    "\n",
    "design_space = DesignSpace()\n",
    "\n",
    "design_space.add_variable('slst', lower_bound=100000.0, upper_bound=200000.0, value=150000.0)\n",
    "design_space.add_variable('n_pax', lower_bound=120, upper_bound=180, value=150)\n",
    "design_space.add_variable('area', lower_bound=100, upper_bound=200, value=180)\n",
    "design_space.add_variable('ar', lower_bound=5, upper_bound=20, value=9)"
   ]
  },
  {
   "cell_type": "code",
   "execution_count": 5,
   "metadata": {},
   "outputs": [],
   "source": [
    "# Add the constraints\n",
    "from gemseo.scenarios.mdo_scenario import MDOScenario\n",
    "scenario = MDOScenario(disciplines=disciplines, design_space=design_space, objective_name= \"mtom\",formulation_name='MDF')\n",
    "scenario.add_constraint('tofl', constraint_type='ineq', value=1900.0, positive=False)\n",
    "scenario.add_constraint('vapp', constraint_type='ineq', value=convert_from(\"kt\",135.0), positive=False)\n",
    "scenario.add_constraint('vz', constraint_type='ineq', value=convert_from(\"ft/min\",300.0), positive=True)\n",
    "scenario.add_constraint('span', constraint_type='ineq', value=40.0, positive=False)\n",
    "scenario.add_constraint('length', constraint_type='ineq', value=45.0, positive=False)\n",
    "scenario.add_constraint('fm', constraint_type='ineq', value=0.0, positive=True)"
   ]
  },
  {
   "cell_type": "code",
   "execution_count": 6,
   "metadata": {},
   "outputs": [
    {
     "name": "stderr",
     "output_type": "stream",
     "text": [
      "    INFO - 15:23:24: *** Start Sampling execution ***\n",
      "    INFO - 15:23:24: Sampling\n",
      "    INFO - 15:23:24:    Disciplines: aerodynamic approach battery climb engine fuel_tank geometry mass mission operating_cost take_off total_mass\n",
      "    INFO - 15:23:24:    MDO formulation: MDF\n",
      "    INFO - 15:23:24: Running the algorithm OT_OPT_LHS:\n"
     ]
    },
    {
     "name": "stderr",
     "output_type": "stream",
     "text": [
      "    INFO - 15:23:25:    100%|██████████| 50/50 [00:00<00:00, 56.45 it/sec]\n",
      "    INFO - 15:23:25: *** End Sampling execution (time: 0:00:00.896264) ***\n",
      "    INFO - 15:23:25: *** Start Sampling execution ***\n",
      "    INFO - 15:23:25: Sampling\n",
      "    INFO - 15:23:25:    Disciplines: aerodynamic approach battery climb engine fuel_tank geometry mass mission operating_cost take_off total_mass\n",
      "    INFO - 15:23:25:    MDO formulation: MDF\n",
      "    INFO - 15:23:25: Running the algorithm OT_FULLFACT:\n",
      "    INFO - 15:23:25:    100%|██████████| 16/16 [00:00<00:00, 48.74 it/sec]s not exist; use 16 samples instead, i.e. the largest 4-th integer power less than 20.\n",
      "    INFO - 15:23:25: *** End Sampling execution (time: 0:00:00.333820) ***\n"
     ]
    },
    {
     "data": {
      "text/plain": [
       "{'ar': array([9.]),\n",
       " 'area': array([180.]),\n",
       " 'n_pax': array([150.]),\n",
       " 'slst': array([150.]),\n",
       " 'fm': array([1.05341194]),\n",
       " 'length': array([37.1880084]),\n",
       " 'mtom': array([71486.99101902]),\n",
       " 'span': array([39.11189269]),\n",
       " 'tofl': array([2250.56021419]),\n",
       " 'vapp': array([58.6894845]),\n",
       " 'vz': array([-5.80986584])}"
      ]
     },
     "execution_count": 6,
     "metadata": {},
     "output_type": "execute_result"
    }
   ],
   "source": [
    "from gemseo import sample_disciplines\n",
    "from gemseo.disciplines.analytic import AnalyticDiscipline\n",
    "from gemseo.disciplines.surrogate import SurrogateDiscipline\n",
    "from numpy import array\n",
    "\n",
    "training_dataset = sample_disciplines(disciplines, design_space, [\"mtom\", \"tofl\", \"vapp\", \"vz\", \"span\", \"length\", \"fm\"], algo_name=\"OT_OPT_LHS\", n_samples=50)\n",
    "\n",
    "test_dataset = sample_disciplines(disciplines, design_space, [\"mtom\", \"tofl\", \"vapp\", \"vz\", \"span\", \"length\", \"fm\"], algo_name=\"OT_FULLFACT\", n_samples=20)\n",
    "\n",
    "surrogate_discipline = SurrogateDiscipline(\"RBFRegressor\", training_dataset)\n",
    "\n",
    "# the optimum values computed by the optimization\n",
    "surrogate_discipline.execute({\"slst\": array([150.0]), \"n_pax\": array([150.0]), \"area\": array([180.0]), \"ar\": array([9.0])})"
   ]
  },
  {
   "cell_type": "code",
   "execution_count": 7,
   "metadata": {},
   "outputs": [
    {
     "data": {
      "text/plain": [
       "{'fm': array([1.]),\n",
       " 'length': array([1.]),\n",
       " 'mtom': array([1.]),\n",
       " 'span': array([1.]),\n",
       " 'tofl': array([1.]),\n",
       " 'vapp': array([1.]),\n",
       " 'vz': array([1.])}"
      ]
     },
     "execution_count": 7,
     "metadata": {},
     "output_type": "execute_result"
    }
   ],
   "source": [
    "r2 = surrogate_discipline.get_error_measure(\"R2Measure\")\n",
    "r2.compute_learning_measure(as_dict=True)"
   ]
  },
  {
   "cell_type": "code",
   "execution_count": 8,
   "metadata": {},
   "outputs": [
    {
     "data": {
      "text/plain": [
       "{'fm': array([0.95156787]),\n",
       " 'length': array([0.97422938]),\n",
       " 'mtom': array([0.9627527]),\n",
       " 'span': array([0.96769612]),\n",
       " 'tofl': array([0.90289931]),\n",
       " 'vapp': array([0.96821076]),\n",
       " 'vz': array([0.94205796])}"
      ]
     },
     "execution_count": 8,
     "metadata": {},
     "output_type": "execute_result"
    }
   ],
   "source": [
    "r2.compute_test_measure(test_dataset, as_dict=True)"
   ]
  },
  {
   "cell_type": "code",
   "execution_count": 9,
   "metadata": {},
   "outputs": [
    {
     "data": {
      "text/plain": [
       "{'fm': array([1.13258564e-15]),\n",
       " 'length': array([5.22140143e-15]),\n",
       " 'mtom': array([1.21750058e-11]),\n",
       " 'span': array([1.68669736e-14]),\n",
       " 'tofl': array([9.36796099e-13]),\n",
       " 'vapp': array([1.40320947e-14]),\n",
       " 'vz': array([1.44751099e-14])}"
      ]
     },
     "execution_count": 9,
     "metadata": {},
     "output_type": "execute_result"
    }
   ],
   "source": [
    "rmse = surrogate_discipline.get_error_measure(\"RMSEMeasure\")\n",
    "rmse.compute_learning_measure(as_dict=True)"
   ]
  },
  {
   "cell_type": "code",
   "execution_count": 10,
   "metadata": {},
   "outputs": [
    {
     "data": {
      "text/plain": [
       "{'fm': array([0.23543503]),\n",
       " 'length': array([0.80266147]),\n",
       " 'mtom': array([1176.53133244]),\n",
       " 'span': array([2.75967332]),\n",
       " 'tofl': array([200.02867414]),\n",
       " 'vapp': array([1.76394476]),\n",
       " 'vz': array([1.95017459])}"
      ]
     },
     "execution_count": 10,
     "metadata": {},
     "output_type": "execute_result"
    }
   ],
   "source": [
    "rmse.compute_test_measure(test_dataset, as_dict=True)"
   ]
  },
  {
   "cell_type": "code",
   "execution_count": null,
   "metadata": {},
   "outputs": [],
   "source": []
  }
 ],
 "metadata": {
  "kernelspec": {
   "display_name": ".venv",
   "language": "python",
   "name": "python3"
  },
  "language_info": {
   "codemirror_mode": {
    "name": "ipython",
    "version": 3
   },
   "file_extension": ".py",
   "mimetype": "text/x-python",
   "name": "python",
   "nbconvert_exporter": "python",
   "pygments_lexer": "ipython3",
   "version": "3.10.12"
  }
 },
 "nbformat": 4,
 "nbformat_minor": 2
}
