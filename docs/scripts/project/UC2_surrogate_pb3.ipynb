{
 "cells": [
  {
   "cell_type": "markdown",
   "id": "ca7bd7e5",
   "metadata": {},
   "source": [
    "# Import "
   ]
  },
  {
   "cell_type": "code",
   "execution_count": 4,
   "id": "aa202500",
   "metadata": {},
   "outputs": [
    {
     "data": {
      "text/plain": [
       "<RootLogger root (INFO)>"
      ]
     },
     "execution_count": 4,
     "metadata": {},
     "output_type": "execute_result"
    }
   ],
   "source": [
    "from gemseo_oad_training.models import aerodynamic\n",
    "from gemseo_oad_training.models import approach\n",
    "from gemseo_oad_training.models import battery\n",
    "from gemseo_oad_training.models import climb\n",
    "from gemseo_oad_training.models import engine\n",
    "from gemseo_oad_training.models import fuel_tank\n",
    "from gemseo_oad_training.models import geometry\n",
    "from gemseo_oad_training.models import mass\n",
    "from gemseo_oad_training.models import mission\n",
    "from gemseo_oad_training.models import operating_cost\n",
    "from gemseo_oad_training.models import take_off\n",
    "from gemseo_oad_training.models import total_mass\n",
    "from gemseo import configure_logger\n",
    "from gemseo.disciplines.auto_py import AutoPyDiscipline\n",
    "from matplotlib import pyplot as plt\n",
    "from gemseo import sample_disciplines\n",
    "from gemseo import to_pickle\n",
    "from gemseo.disciplines.surrogate import SurrogateDiscipline\n",
    "from gemseo import to_pickle\n",
    "import pandas as pd\n",
    "from lh2pac.utils import update_default_inputs\n",
    "from gemseo.algos.design_space import DesignSpace\n",
    "\n",
    "\n",
    "configure_logger()"
   ]
  },
  {
   "cell_type": "markdown",
   "id": "62b0a3b2",
   "metadata": {},
   "source": [
    "# Instanciate disciplines"
   ]
  },
  {
   "cell_type": "code",
   "execution_count": 2,
   "id": "bc60684b",
   "metadata": {},
   "outputs": [],
   "source": [
    "# On veut résoudre le problème 1 avec UC1 et UC2\n",
    "disciplines = [AutoPyDiscipline(aerodynamic), AutoPyDiscipline(approach), AutoPyDiscipline(battery), AutoPyDiscipline(climb), AutoPyDiscipline(engine), AutoPyDiscipline(fuel_tank), AutoPyDiscipline(geometry), AutoPyDiscipline(mass), AutoPyDiscipline(mission), AutoPyDiscipline(operating_cost), AutoPyDiscipline(take_off), AutoPyDiscipline(total_mass)]"
   ]
  },
  {
   "cell_type": "code",
   "execution_count": 3,
   "id": "21d34a51",
   "metadata": {},
   "outputs": [
    {
     "data": {
      "text/plain": [
       "{'fuel_type': 'liquid_h2', 'gi': 0.4, 'tkv': 20.0}"
      ]
     },
     "execution_count": 3,
     "metadata": {},
     "output_type": "execute_result"
    }
   ],
   "source": [
    "update_default_inputs(disciplines, {\"fuel_type\": \"liquid_h2\"})\n",
    "disciplines[5].io.input_grammar.defaults"
   ]
  },
  {
   "cell_type": "markdown",
   "id": "ac3eebe3",
   "metadata": {},
   "source": [
    "# Create design space"
   ]
  },
  {
   "cell_type": "code",
   "execution_count": 5,
   "id": "210edf1e",
   "metadata": {},
   "outputs": [],
   "source": [
    "design_space = DesignSpace()\n",
    "design_space.add_variable('slst', lower_bound=100000.0, upper_bound=200000.0, value=150000.0)\n",
    "design_space.add_variable('n_pax', lower_bound=120, upper_bound=180, value=150)\n",
    "design_space.add_variable('area', lower_bound=100, upper_bound=200, value=180)\n",
    "design_space.add_variable('ar', lower_bound=5, upper_bound=20, value=9)\n",
    "design_space.add_variable('aef', lower_bound=0.99, upper_bound=1.03, value=1.0)\n",
    "design_space.add_variable('cef', lower_bound=0.99, upper_bound=1.03, value=1.0)\n",
    "design_space.add_variable('sef', lower_bound=0.99, upper_bound=1.03, value=1.0)"
   ]
  },
  {
   "cell_type": "markdown",
   "id": "7e6ed8eb",
   "metadata": {},
   "source": [
    "# Split train/test dataset"
   ]
  },
  {
   "cell_type": "code",
   "execution_count": 6,
   "id": "86cb5563",
   "metadata": {},
   "outputs": [
    {
     "name": "stderr",
     "output_type": "stream",
     "text": [
      "    INFO - 11:02:40: *** Start Sampling execution ***\n",
      "    INFO - 11:02:40: Sampling\n",
      "    INFO - 11:02:40:    Disciplines: aerodynamic approach battery climb engine fuel_tank geometry mass mission operating_cost take_off total_mass\n",
      "    INFO - 11:02:40:    MDO formulation: MDF\n",
      "    INFO - 11:02:40: Running the algorithm OT_OPT_LHS:\n",
      "    INFO - 11:02:40:    100%|██████████| 28/28 [00:00<00:00, 219.15 it/sec]\n",
      "    INFO - 11:02:40: *** End Sampling execution (time: 0:00:00.134944) ***\n",
      "    INFO - 11:02:40: *** Start Sampling execution ***\n",
      "    INFO - 11:02:40: Sampling\n",
      "    INFO - 11:02:40:    Disciplines: aerodynamic approach battery climb engine fuel_tank geometry mass mission operating_cost take_off total_mass\n",
      "    INFO - 11:02:40:    MDO formulation: MDF\n",
      "    INFO - 11:02:40: Running the algorithm OT_MONTE_CARLO:\n",
      "    INFO - 11:02:40:    100%|██████████| 28/28 [00:00<00:00, 227.31 it/sec]\n",
      "    INFO - 11:02:40: *** End Sampling execution (time: 0:00:00.125834) ***\n"
     ]
    }
   ],
   "source": [
    "training_dataset = sample_disciplines(disciplines, design_space, [\"mtom\",\"tofl\", \"vapp\", \"vz\", \"span\", \"length\", \"fm\"], algo_name=\"OT_OPT_LHS\", n_samples=28)\n",
    "test_dataset = sample_disciplines(disciplines, design_space, [\"mtom\",\"tofl\", \"vapp\", \"vz\", \"span\", \"length\", \"fm\"], algo_name=\"OT_MONTE_CARLO\", n_samples=28)"
   ]
  },
  {
   "cell_type": "markdown",
   "id": "edc03f6f",
   "metadata": {},
   "source": [
    "# Try different surrogate"
   ]
  },
  {
   "cell_type": "code",
   "execution_count": 7,
   "id": "7a01ecfd",
   "metadata": {},
   "outputs": [
    {
     "name": "stdout",
     "output_type": "stream",
     "text": [
      " Testing surrogate: RBF_gaussian\n",
      " Testing surrogate: RBF_gaussian_mg\n",
      " Testing surrogate: Polynomial_deg2\n",
      " Testing surrogate: Polynomial_deg2\n",
      "\n",
      "Résultats comparatifs :\n",
      "                     fm  length    mtom    span    tofl    vapp      vz\n",
      "Model                                                                  \n",
      "RBF_gaussian     0.6431  0.7119  0.7411  0.6268  0.6516  0.6950  0.6634\n",
      "RBF_gaussian_mg  0.9724  0.9911  0.9785  0.9761  0.9506  0.9748  0.9756\n",
      "Polynomial_deg2  0.9373  0.9920  0.9688  0.9530  0.9431  0.9315  0.9268\n",
      "Polynomial_deg2  0.8882  0.9682  0.9533  0.8866  0.8848  0.8327  0.9106\n"
     ]
    },
    {
     "data": {
      "text/plain": [
       "<Figure size 1200x600 with 0 Axes>"
      ]
     },
     "metadata": {},
     "output_type": "display_data"
    },
    {
     "data": {
      "image/png": "[encoded data removed]",
      "text/plain": [
       "<Figure size 1400x600 with 1 Axes>"
      ]
     },
     "metadata": {},
     "output_type": "display_data"
    }
   ],
   "source": [
    "surrogate_configs = [\n",
    "    {\"name\": \"RBF_gaussian\", \"model\": \"RBFRegressor\", \"function\": \"gaussian\"},\n",
    "    {\"name\": \"RBF_gaussian_mg\", \"model\": \"RBFRegressor\", \"function\": \"multiquadric\"},\n",
    "    {\"name\": \"Polynomial_deg2\", \"model\": \"PolynomialRegressor\", \"degree\": 2},\n",
    "    {\"name\": \"Polynomial_deg2\", \"model\": \"PolynomialRegressor\", \"degree\": 3},\n",
    "]\n",
    "\n",
    "results = []\n",
    "\n",
    "for config in surrogate_configs:\n",
    "    name = config[\"name\"]\n",
    "    model_type = config[\"model\"]\n",
    "    kwargs = {k: v for k, v in config.items() if k not in [\"name\", \"model\"]}\n",
    "\n",
    "    print(f\" Testing surrogate: {name}\")\n",
    "    \n",
    "    surrogate = SurrogateDiscipline(model_type, data=training_dataset, **kwargs)\n",
    "    r2 = surrogate.get_error_measure(\"R2Measure\")\n",
    "    test_scores = r2.compute_test_measure(test_dataset, as_dict=True)\n",
    "    \n",
    "    flat_scores = {key: float(value) for key, value in test_scores.items()}\n",
    "    flat_scores[\"Model\"] = name\n",
    "    results.append(flat_scores)\n",
    "\n",
    "df_results = pd.DataFrame(results)\n",
    "df_results = df_results.set_index(\"Model\")\n",
    "print(\"\\nRésultats comparatifs :\")\n",
    "print(df_results.round(4)\n",
    ")\n",
    "plt.figure(figsize=(12, 6))\n",
    "df_results.plot(kind=\"bar\", figsize=(14, 6))\n",
    "plt.title(\"Comparaison des surrogates (R² par variable)\")\n",
    "plt.ylabel(\"R²\")\n",
    "plt.ylim(0, 1.05)\n",
    "plt.grid(True, axis='y', linestyle='--', alpha=0.6)\n",
    "plt.legend(title=\"Variable de sortie\", bbox_to_anchor=(1.05, 1), loc='upper left')\n",
    "plt.tight_layout()\n",
    "plt.show()"
   ]
  },
  {
   "cell_type": "markdown",
   "id": "7d9eedb1",
   "metadata": {},
   "source": [
    "# Save best surrogate"
   ]
  },
  {
   "cell_type": "code",
   "execution_count": 8,
   "id": "4a1d7edb",
   "metadata": {},
   "outputs": [],
   "source": [
    "surrogate_discipline = SurrogateDiscipline(\"RBFRegressor\", data = training_dataset, function=\"multiquadric\")"
   ]
  },
  {
   "cell_type": "code",
   "execution_count": 9,
   "id": "4da5bd07",
   "metadata": {},
   "outputs": [
    {
     "data": {
      "text/plain": [
       "{'fm': array([0.88824321]),\n",
       " 'length': array([0.96820496]),\n",
       " 'mtom': array([0.95329648]),\n",
       " 'span': array([0.88663085]),\n",
       " 'tofl': array([0.88476585]),\n",
       " 'vapp': array([0.83272251]),\n",
       " 'vz': array([0.91062855])}"
      ]
     },
     "execution_count": 9,
     "metadata": {},
     "output_type": "execute_result"
    }
   ],
   "source": [
    "r2.compute_test_measure(test_dataset, as_dict=True)"
   ]
  },
  {
   "cell_type": "code",
   "execution_count": 10,
   "id": "007aab07",
   "metadata": {},
   "outputs": [
    {
     "data": {
      "text/plain": [
       "{'fm': array([0.03921448]),\n",
       " 'length': array([0.32139825]),\n",
       " 'mtom': array([527.53800729]),\n",
       " 'span': array([1.32083709]),\n",
       " 'tofl': array([85.88764852]),\n",
       " 'vapp': array([1.08917849]),\n",
       " 'vz': array([0.67174325])}"
      ]
     },
     "execution_count": 10,
     "metadata": {},
     "output_type": "execute_result"
    }
   ],
   "source": [
    "rmse = surrogate_discipline.get_error_measure(\"RMSEMeasure\")\n",
    "rmse.compute_test_measure(test_dataset, as_dict=True)"
   ]
  },
  {
   "cell_type": "code",
   "execution_count": 11,
   "id": "8987e0e8",
   "metadata": {},
   "outputs": [],
   "source": [
    "to_pickle(surrogate_discipline, \"UC2_my_surrogate_3.pkl\")"
   ]
  }
 ],
 "metadata": {
  "kernelspec": {
   "display_name": ".venv",
   "language": "python",
   "name": "python3"
  },
  "language_info": {
   "codemirror_mode": {
    "name": "ipython",
    "version": 3
   },
   "file_extension": ".py",
   "mimetype": "text/x-python",
   "name": "python",
   "nbconvert_exporter": "python",
   "pygments_lexer": "ipython3",
   "version": "3.10.12"
  }
 },
 "nbformat": 4,
 "nbformat_minor": 5
}
