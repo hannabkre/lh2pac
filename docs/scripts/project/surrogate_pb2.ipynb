{
 "cells": [
  {
   "cell_type": "markdown",
   "metadata": {},
   "source": [
    "# 4 OAD updates\n",
    "\n",
    "In this project,\n",
    "we seek to optimize an aircraft of approximately 150 passengers that flies at Mach 0.78,\n",
    "using different engine and fuel technologies.\n",
    "\n",
    "## The OAD problem\n",
    "\n",
    "The OAD problem is to find the values of the design parameters \n",
    "that minimize the maximum take-off mass (MTOM, `mtom` in the code) under some operation constraints.\n",
    "Note that the MTOM of an airplane is a good criterion to optimize the design.\n",
    "Alternative objectives are the cash operating cost (COC, `coc` in the code) or the direct operating cost (DOC, `doc` in the code).\n",
    "\n",
    "### The design parameters\n",
    "\n",
    "The **design parameters** are :\n",
    "\n",
    "- the maximum sea level static thrust  (100 kN ≤ slst ≤ 200 kN, default: 150 kN),\n",
    "- the number of passengers  (120 ≤ n_pax ≤ 180, default: 150),\n",
    "- the wing area (100 m² ≤ area ≤ 200 m², default: 180 m²),\n",
    "- the wing aspect ratio  (5 ≤ ar ≤ 20, default: 9.).\n",
    "\n",
    "### The operational constraints\n",
    "\n",
    "The **operational constraints** are :\n",
    "\n",
    "- the take-off field length (tofl ≤ 1900 m),\n",
    "- the approach speed (vapp ≤ 135 kt),\n",
    "- the vertical speed (300 ft/min ≤ vz),\n",
    "- the wing span (span ≤ 40 m),\n",
    "- the wing length (length ≤ 45 m),\n",
    "- the fuel margin (0% ≤ fm).\n",
    "\n",
    "## The uncertain parameters\n",
    "\n",
    "In Problems 2 and 3,\n",
    "some parameters are considered as uncertain.\n",
    "\n",
    "These uncertain parameters are modelled as random variables defined by probability distributions:\n",
    "\n",
    "| Variable | Distribution          | Fuel type | Engine type |\n",
    "|----------|-----------------------|-----------|-------------|\n",
    "| `gi`     | T(0.35, 0.4, 0.405)   | liquid_h2 | All         |\n",
    "| `vi`     | T(0.755, 0.800, 0805) | liquid_h2 | All         |\n",
    "| `aef`    | T(0.99, 1., 1.03)     | All       | All         |\n",
    "| `cef`    | T(0.99, 1., 1.03)     | All       | All         |\n",
    "| `aef`    | T(0.99, 1., 1.03)     | All       | All         |\n",
    "| `fc_pwd` | T(0.8, 1, 1.02)       | liquid_h2 | electrofan  |\n",
    "| `bed`    | U(400,700)            | battery   | All         |\n",
    "\n",
    "where `T(minimum, mode, maximum)` and `U(minimum,maximum)`\n",
    "represent the [triangular distribution](https://en.wikipedia.org/wiki/Triangular_distribution)\n",
    "and the [uniform distribution](https://en.wikipedia.org/wiki/Continuous_uniform_distribution) respectively.\n",
    "the last two columns indicate the type of fuel and the type of engine\n",
    "for which these uncertain parameters are relevant.\n",
    "\n",
    "The parameters `aef`, `cef` and `aef` are related\n",
    "to the three main technical areas involved in aircraft design,\n",
    "namely aerodynamics, propulsion and structure.\n",
    "The lower, the better.\n",
    "These factors are representing the unknown\n",
    "included in any creative activity.\n",
    "Their probability distributions are not symmetrical\n",
    "as it is always easier to make something less efficient than expected...\n",
    "\n",
    "## The 12 models\n",
    "\n",
    "The 12 models are defined in `gemseo-oad` as Python functions:\n",
    "\n"
   ]
  },
  {
   "cell_type": "code",
   "execution_count": 20,
   "metadata": {},
   "outputs": [],
   "source": [
    "from gemseo_oad_training.models import aerodynamic\n",
    "from gemseo_oad_training.models import approach\n",
    "from gemseo_oad_training.models import battery\n",
    "from gemseo_oad_training.models import climb\n",
    "from gemseo_oad_training.models import engine\n",
    "from gemseo_oad_training.models import fuel_tank\n",
    "from gemseo_oad_training.models import geometry\n",
    "from gemseo_oad_training.models import mass\n",
    "from gemseo_oad_training.models import mission\n",
    "from gemseo_oad_training.models import operating_cost\n",
    "from gemseo_oad_training.models import take_off\n",
    "from gemseo_oad_training.models import total_mass\n",
    "from gemseo import configure_logger\n",
    "from gemseo.disciplines.auto_py import AutoPyDiscipline\n",
    "from matplotlib import pyplot as plt\n",
    "from gemseo.uncertainty.statistics.empirical_statistics import EmpiricalStatistics\n",
    "from gemseo import sample_disciplines\n",
    "from gemseo.algos.parameter_space import ParameterSpace\n",
    "import pprint\n",
    "from gemseo.algos.parameter_space import ParameterSpace\n",
    "from gemseo.disciplines.analytic import AnalyticDiscipline\n",
    "from gemseo.uncertainty.sensitivity.sobol_analysis import SobolAnalysis\n",
    "from numpy import pi\n",
    "import numpy as np\n",
    "from gemseo import to_pickle\n",
    "\n",
    "from lh2pac.utils import update_default_inputs\n",
    "from numpy import array\n",
    "from gemseo import from_pickle\n",
    "# from gemseo import sample_disciplines\n",
    "from gemseo import to_pickle"
   ]
  },
  {
   "cell_type": "code",
   "execution_count": 2,
   "metadata": {},
   "outputs": [
    {
     "data": {
      "text/plain": [
       "<RootLogger root (INFO)>"
      ]
     },
     "execution_count": 2,
     "metadata": {},
     "output_type": "execute_result"
    }
   ],
   "source": [
    "from gemseo import configure_logger\n",
    "\n",
    "configure_logger()"
   ]
  },
  {
   "cell_type": "markdown",
   "metadata": {},
   "source": [
    "## Problème 1 - Modélisation par surrogate et optimisation\n",
    "\n",
    "Nous allons créer un modèle de substitution (surrogate model) noté :\n",
    "\n",
    "$$\n",
    "\\hat{f} : x \\mapsto \\hat{f}(x) = f(x, u_{\\mathrm{default}})\n",
    "$$\n",
    "\n",
    "Ce modèle approxime la fonction objectif ainsi que les contraintes du problème de conception, en fonction des paramètres de conception \\(x\\), avec les conditions d'utilisation fixées à $u_{\\mathrm{default}}$.\n",
    "\n",
    "Une fois ce modèle construit, nous l'utiliserons dans un processus d'optimisation pour :\n",
    "\n",
    "- **Minimiser** la fonction objectif,\n",
    "- **Respecter** les contraintes imposées,\n",
    "\n",
    "en faisant varier les paramètres de conception \\(x\\).\n",
    "\n"
   ]
  },
  {
   "cell_type": "markdown",
   "metadata": {},
   "source": [
    "## The units\n",
    "\n",
    "The use cases are written using common units.\n",
    "\n",
    "The models only know STANDARD UNITS which means\n",
    "that all data provided to the function MUST be expressed in standard units\n",
    "and that all data retrieved by the function are expressed in standard units.\n",
    "\n",
    "!!! tip \"Convert units\"\n",
    "    The functions `convert_from` and `convert_to` from `gemseo_oad_training.unit` can make the conversion easier.\n",
    "\n",
    "## The four use cases\n",
    "\n",
    "| Id  | Fuel type | Engine type | Design range (km) |\n",
    "|-----|-----------|-------------|-------------------|\n",
    "| UC1 | Kerosene  | Turbofan    | 5500              |\n",
    "| UC2 | Hydrogen  | Turbofan    | 5500              |\n",
    "| UC3 | Hydrogen  | Electrofan  | 5500              |\n",
    "| UC4 | Battery   | Electrofan  | 500               |"
   ]
  },
  {
   "cell_type": "code",
   "execution_count": 3,
   "metadata": {},
   "outputs": [],
   "source": [
    "# On veut résoudre le problème 1 avec UC1 et UC2\n",
    "from gemseo.disciplines.auto_py import AutoPyDiscipline\n",
    "from gemseo.disciplines.surrogate import SurrogateDiscipline\n",
    "\n",
    "\n",
    "disciplines = [AutoPyDiscipline(aerodynamic), AutoPyDiscipline(approach), AutoPyDiscipline(battery), AutoPyDiscipline(climb), AutoPyDiscipline(engine), AutoPyDiscipline(fuel_tank), AutoPyDiscipline(geometry), AutoPyDiscipline(mass), AutoPyDiscipline(mission), AutoPyDiscipline(operating_cost), AutoPyDiscipline(take_off), AutoPyDiscipline(total_mass)]"
   ]
  },
  {
   "cell_type": "markdown",
   "metadata": {},
   "source": [
    "# Fix optimal parameters"
   ]
  },
  {
   "cell_type": "code",
   "execution_count": 11,
   "metadata": {},
   "outputs": [
    {
     "data": {
      "text/plain": [
       "{'area': 103.57, 'ar': 15.16, 'length': 37.0, 'aef': 1.0}"
      ]
     },
     "execution_count": 11,
     "metadata": {},
     "output_type": "execute_result"
    }
   ],
   "source": [
    "update_default_inputs(disciplines, {\"slst\": 103587.83, \"n_pax\":120, \"area\":103.57, \"ar\":15.16})\n",
    "disciplines[0].io.input_grammar.defaults\n"
   ]
  },
  {
   "cell_type": "code",
   "execution_count": 12,
   "metadata": {},
   "outputs": [],
   "source": [
    "from gemseo.algos.parameter_space import ParameterSpace\n",
    "from gemseo import sample_disciplines\n",
    "\n",
    "uncertain_space = ParameterSpace()\n",
    "uncertain_space.add_random_variable(\"aef\", \"OTTriangularDistribution\", minimum=0.99, mode=1, maximum=1.03)\n",
    "uncertain_space.add_random_variable(\"cef\", \"OTTriangularDistribution\", minimum=0.99, mode=1, maximum=1.03)\n",
    "uncertain_space.add_random_variable(\"sef\", \"OTTriangularDistribution\", minimum=0.99, mode=1, maximum=1.03)"
   ]
  },
  {
   "cell_type": "code",
   "execution_count": null,
   "metadata": {},
   "outputs": [
    {
     "name": "stderr",
     "output_type": "stream",
     "text": [
      "    INFO - 16:31:17: *** Start Sampling execution ***\n",
      "    INFO - 16:31:17: Sampling\n",
      "    INFO - 16:31:17:    Disciplines: aerodynamic approach battery climb engine fuel_tank geometry mass mission operating_cost take_off total_mass\n",
      "    INFO - 16:31:17:    MDO formulation: MDF\n",
      "    INFO - 16:31:17: Running the algorithm OT_MONTE_CARLO:\n",
      "    INFO - 16:31:17:    100%|██████████| 20/20 [00:00<00:00, 205.65 it/sec]\n",
      "    INFO - 16:31:17: *** End Sampling execution (time: 0:00:00.101526) ***\n",
      "    INFO - 16:31:17: *** Start Sampling execution ***\n",
      "    INFO - 16:31:17: Sampling\n",
      "    INFO - 16:31:17:    Disciplines: aerodynamic approach battery climb engine fuel_tank geometry mass mission operating_cost take_off total_mass\n",
      "    INFO - 16:31:17:    MDO formulation: MDF\n",
      "    INFO - 16:31:17: Running the algorithm OT_FULLFACT:\n",
      "    INFO - 16:31:17:    100%|██████████| 8/8 [00:00<00:00, 290.54 it/sec]es not exist; use 8 samples instead, i.e. the largest 3-th integer power less than 20.\n",
      "    INFO - 16:31:17: *** End Sampling execution (time: 0:00:00.031466) ***\n"
     ]
    }
   ],
   "source": [
    "training_dataset = sample_disciplines(disciplines, uncertain_space, [\"mtom\",\"tofl\", \"vapp\", \"vz\", \"span\", \"length\", \"fm\"], algo_name=\"OT_OPT_LHS\", n_samples=20)\n",
    "test_dataset = sample_disciplines(disciplines, uncertain_space, [\"mtom\",\"tofl\", \"vapp\", \"vz\", \"span\", \"length\", \"fm\"], algo_name=\"OT_MONTE_CARLO\", n_samples=20)"
   ]
  },
  {
   "cell_type": "code",
   "execution_count": 14,
   "metadata": {},
   "outputs": [
    {
     "name": "stdout",
     "output_type": "stream",
     "text": [
      " Testing surrogate: RBF_gaussian_5\n",
      " Testing surrogate: RBF_gaussian_2\n",
      " Testing surrogate: RBF_gaussian_mg\n",
      " Testing surrogate: Polynomial_deg2\n",
      " Testing surrogate: Polynomial_deg2\n",
      "\n",
      "Résultats comparatifs :\n",
      "                     fm  length    mtom  span    tofl    vapp      vz\n",
      "Model                                                                \n",
      "RBF_gaussian_5   0.9998     1.0  1.0000   1.0  1.0000  1.0000  0.9999\n",
      "RBF_gaussian_2   0.9758     1.0  0.9953   1.0  0.9951  0.9966  0.9916\n",
      "RBF_gaussian_mg  1.0000     1.0  1.0000   1.0  1.0000  1.0000  1.0000\n",
      "Polynomial_deg2  1.0000     1.0  1.0000   1.0  1.0000  1.0000  1.0000\n",
      "Polynomial_deg2  1.0000     1.0  1.0000   1.0  1.0000  1.0000  1.0000\n"
     ]
    },
    {
     "data": {
      "text/plain": [
       "<Figure size 1200x600 with 0 Axes>"
      ]
     },
     "metadata": {},
     "output_type": "display_data"
    },
    {
     "data": {
      "image/png": "[encoded data removed]",
      "text/plain": [
       "<Figure size 1400x600 with 1 Axes>"
      ]
     },
     "metadata": {},
     "output_type": "display_data"
    }
   ],
   "source": [
    "import pandas as pd\n",
    "import matplotlib.pyplot as plt\n",
    "\n",
    "\n",
    "# Liste des surrogates à tester avec leurs paramètres\n",
    "surrogate_configs = [\n",
    "    {\"name\": \"RBF_gaussian_5\", \"model\": \"RBFRegressor\", \"function\": \"gaussian\", \"epsilon\": 5},\n",
    "    {\"name\": \"RBF_gaussian_2\", \"model\": \"RBFRegressor\", \"function\": \"gaussian\", \"epsilon\": 2},\n",
    "    {\"name\": \"RBF_gaussian_mg\", \"model\": \"RBFRegressor\", \"function\": \"multiquadric\", \"epsilon\": 5},\n",
    "    {\"name\": \"Polynomial_deg2\", \"model\": \"PolynomialRegressor\", \"degree\": 2},\n",
    "    {\"name\": \"Polynomial_deg2\", \"model\": \"PolynomialRegressor\", \"degree\": 3},\n",
    "]\n",
    "\n",
    "results = []\n",
    "\n",
    "for config in surrogate_configs:\n",
    "    name = config[\"name\"]\n",
    "    model_type = config[\"model\"]\n",
    "    kwargs = {k: v for k, v in config.items() if k not in [\"name\", \"model\"]}\n",
    "\n",
    "    print(f\" Testing surrogate: {name}\")\n",
    "    \n",
    "    surrogate = SurrogateDiscipline(model_type, data=training_dataset, **kwargs)\n",
    "    r2 = surrogate.get_error_measure(\"R2Measure\")\n",
    "    test_scores = r2.compute_test_measure(test_dataset, as_dict=True)\n",
    "    \n",
    "    # Format results\n",
    "    flat_scores = {key: float(value) for key, value in test_scores.items()}\n",
    "    flat_scores[\"Model\"] = name\n",
    "    results.append(flat_scores)\n",
    "\n",
    "# Créer un DataFrame pour affichage\n",
    "df_results = pd.DataFrame(results)\n",
    "df_results = df_results.set_index(\"Model\")\n",
    "print(\"\\nRésultats comparatifs :\")\n",
    "print(df_results.round(4)\n",
    ")\n",
    "plt.figure(figsize=(12, 6))\n",
    "df_results.plot(kind=\"bar\", figsize=(14, 6))\n",
    "plt.title(\"Comparaison des surrogates (R² par variable)\")\n",
    "plt.ylabel(\"R²\")\n",
    "plt.ylim(0, 1.05)\n",
    "plt.grid(True, axis='y', linestyle='--', alpha=0.6)\n",
    "plt.legend(title=\"Variable de sortie\", bbox_to_anchor=(1.05, 1), loc='upper left')\n",
    "plt.tight_layout()\n",
    "plt.show()"
   ]
  },
  {
   "cell_type": "code",
   "execution_count": 15,
   "metadata": {},
   "outputs": [],
   "source": [
    "surrogate_discipline = SurrogateDiscipline(\"PolynomialRegressor\", degree = 2, data = training_dataset)"
   ]
  },
  {
   "cell_type": "code",
   "execution_count": 16,
   "metadata": {},
   "outputs": [
    {
     "data": {
      "text/plain": [
       "{'fm': array([0.99999679]),\n",
       " 'length': array([1.]),\n",
       " 'mtom': array([1.]),\n",
       " 'span': array([1.]),\n",
       " 'tofl': array([1.]),\n",
       " 'vapp': array([1.]),\n",
       " 'vz': array([0.99999999])}"
      ]
     },
     "execution_count": 16,
     "metadata": {},
     "output_type": "execute_result"
    }
   ],
   "source": [
    "r2.compute_test_measure(test_dataset, as_dict=True)"
   ]
  },
  {
   "cell_type": "code",
   "execution_count": 17,
   "metadata": {},
   "outputs": [
    {
     "data": {
      "text/plain": [
       "{'fm': array([1.16401678e-06]),\n",
       " 'length': array([0.]),\n",
       " 'mtom': array([0.00055472]),\n",
       " 'span': array([0.]),\n",
       " 'tofl': array([2.69689605e-05]),\n",
       " 'vapp': array([4.46140551e-07]),\n",
       " 'vz': array([1.88538778e-06])}"
      ]
     },
     "execution_count": 17,
     "metadata": {},
     "output_type": "execute_result"
    }
   ],
   "source": [
    "rmse = surrogate_discipline.get_error_measure(\"RMSEMeasure\")\n",
    "rmse.compute_learning_measure(as_dict=True)"
   ]
  },
  {
   "cell_type": "code",
   "execution_count": 18,
   "metadata": {},
   "outputs": [
    {
     "data": {
      "text/plain": [
       "{'fm': array([1.33019379e-05]),\n",
       " 'length': array([0.]),\n",
       " 'mtom': array([0.01918236]),\n",
       " 'span': array([0.]),\n",
       " 'tofl': array([0.00205302]),\n",
       " 'vapp': array([5.91169333e-06]),\n",
       " 'vz': array([2.91659457e-05])}"
      ]
     },
     "execution_count": 18,
     "metadata": {},
     "output_type": "execute_result"
    }
   ],
   "source": [
    "rmse.compute_test_measure(test_dataset, as_dict=True)"
   ]
  },
  {
   "cell_type": "code",
   "execution_count": 19,
   "metadata": {},
   "outputs": [],
   "source": [
    "to_pickle(surrogate_discipline, \"my_surrogate_2.pkl\")"
   ]
  }
 ],
 "metadata": {
  "kernelspec": {
   "display_name": ".venv",
   "language": "python",
   "name": "python3"
  },
  "language_info": {
   "codemirror_mode": {
    "name": "ipython",
    "version": 3
   },
   "file_extension": ".py",
   "mimetype": "text/x-python",
   "name": "python",
   "nbconvert_exporter": "python",
   "pygments_lexer": "ipython3",
   "version": "3.10.12"
  }
 },
 "nbformat": 4,
 "nbformat_minor": 2
}
