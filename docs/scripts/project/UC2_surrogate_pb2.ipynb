{
 "cells": [
  {
   "cell_type": "markdown",
   "metadata": {},
   "source": [
    "# Import "
   ]
  },
  {
   "cell_type": "code",
   "execution_count": 1,
   "metadata": {},
   "outputs": [
    {
     "data": {
      "text/plain": [
       "<RootLogger root (INFO)>"
      ]
     },
     "execution_count": 1,
     "metadata": {},
     "output_type": "execute_result"
    }
   ],
   "source": [
    "from gemseo_oad_training.models import aerodynamic\n",
    "from gemseo_oad_training.models import approach\n",
    "from gemseo_oad_training.models import battery\n",
    "from gemseo_oad_training.models import climb\n",
    "from gemseo_oad_training.models import engine\n",
    "from gemseo_oad_training.models import fuel_tank\n",
    "from gemseo_oad_training.models import geometry\n",
    "from gemseo_oad_training.models import mass\n",
    "from gemseo_oad_training.models import mission\n",
    "from gemseo_oad_training.models import operating_cost\n",
    "from gemseo_oad_training.models import take_off\n",
    "from gemseo_oad_training.models import total_mass\n",
    "from gemseo import configure_logger\n",
    "from gemseo.disciplines.auto_py import AutoPyDiscipline\n",
    "from matplotlib import pyplot as plt\n",
    "from gemseo import sample_disciplines\n",
    "from gemseo.algos.parameter_space import ParameterSpace\n",
    "import pprint\n",
    "from gemseo.algos.parameter_space import ParameterSpace\n",
    "from gemseo import to_pickle\n",
    "from gemseo.disciplines.surrogate import SurrogateDiscipline\n",
    "from lh2pac.utils import update_default_inputs\n",
    "from gemseo import to_pickle\n",
    "import pandas as pd\n",
    "\n",
    "configure_logger()"
   ]
  },
  {
   "cell_type": "markdown",
   "metadata": {},
   "source": [
    "# Instanciate disciplines"
   ]
  },
  {
   "cell_type": "code",
   "execution_count": 2,
   "metadata": {},
   "outputs": [],
   "source": [
    "# On veut résoudre le problème 1 avec UC1 et UC2\n",
    "disciplines = [AutoPyDiscipline(aerodynamic), AutoPyDiscipline(approach), AutoPyDiscipline(battery), AutoPyDiscipline(climb), AutoPyDiscipline(engine), AutoPyDiscipline(fuel_tank), AutoPyDiscipline(geometry), AutoPyDiscipline(mass), AutoPyDiscipline(mission), AutoPyDiscipline(operating_cost), AutoPyDiscipline(take_off), AutoPyDiscipline(total_mass)]"
   ]
  },
  {
   "cell_type": "markdown",
   "metadata": {},
   "source": [
    "# Fix optimal parameters"
   ]
  },
  {
   "cell_type": "code",
   "execution_count": 3,
   "metadata": {},
   "outputs": [
    {
     "data": {
      "text/plain": [
       "{'area': 126.51395189, 'ar': 10.73253045, 'length': 37.0, 'aef': 1.0}"
      ]
     },
     "execution_count": 3,
     "metadata": {},
     "output_type": "execute_result"
    }
   ],
   "source": [
    "update_default_inputs(disciplines, {\"slst\": 128421.91149125, \"n_pax\":128.14643539, \"area\":126.51395189, \"ar\":10.73253045, \"fuel_type\":\"liquid_h2\"})\n",
    "disciplines[0].io.input_grammar.defaults"
   ]
  },
  {
   "cell_type": "markdown",
   "metadata": {},
   "source": [
    "# Create uncertain space"
   ]
  },
  {
   "cell_type": "code",
   "execution_count": 4,
   "metadata": {},
   "outputs": [],
   "source": [
    "uncertain_space = ParameterSpace()\n",
    "uncertain_space.add_random_variable(\"aef\", \"OTTriangularDistribution\", minimum=0.99, mode=1, maximum=1.03)\n",
    "uncertain_space.add_random_variable(\"cef\", \"OTTriangularDistribution\", minimum=0.99, mode=1, maximum=1.03)\n",
    "uncertain_space.add_random_variable(\"sef\", \"OTTriangularDistribution\", minimum=0.99, mode=1, maximum=1.03)\n",
    "uncertain_space.add_random_variable(\"gi\", \"OTTriangularDistribution\", minimum=0.35, mode=0.4, maximum=0.405)\n",
    "uncertain_space.add_random_variable(\"vi\", \"OTTriangularDistribution\", minimum=0.755, mode=0.800, maximum=0.805)"
   ]
  },
  {
   "cell_type": "markdown",
   "metadata": {},
   "source": [
    "# Split train/test dataset"
   ]
  },
  {
   "cell_type": "code",
   "execution_count": 5,
   "metadata": {},
   "outputs": [
    {
     "name": "stderr",
     "output_type": "stream",
     "text": [
      "    INFO - 11:54:55: *** Start Sampling execution ***\n",
      "    INFO - 11:54:55: Sampling\n",
      "    INFO - 11:54:55:    Disciplines: aerodynamic approach battery climb engine fuel_tank geometry mass mission operating_cost take_off total_mass\n",
      "    INFO - 11:54:55:    MDO formulation: MDF\n",
      "    INFO - 11:54:55: Running the algorithm OT_OPT_LHS:\n",
      "    INFO - 11:54:55:    100%|██████████| 20/20 [00:00<00:00, 309.28 it/sec]\n",
      "    INFO - 11:54:55: *** End Sampling execution (time: 0:00:00.070336) ***\n",
      "    INFO - 11:54:55: *** Start Sampling execution ***\n",
      "    INFO - 11:54:55: Sampling\n",
      "    INFO - 11:54:55:    Disciplines: aerodynamic approach battery climb engine fuel_tank geometry mass mission operating_cost take_off total_mass\n",
      "    INFO - 11:54:55:    MDO formulation: MDF\n",
      "    INFO - 11:54:55: Running the algorithm OT_MONTE_CARLO:\n",
      "    INFO - 11:54:55:    100%|██████████| 20/20 [00:00<00:00, 376.31 it/sec]\n",
      "    INFO - 11:54:55: *** End Sampling execution (time: 0:00:00.055528) ***\n"
     ]
    }
   ],
   "source": [
    "training_dataset = sample_disciplines(disciplines, uncertain_space, [\"mtom\",\"tofl\", \"vapp\", \"vz\", \"span\", \"length\", \"fm\"], algo_name=\"OT_OPT_LHS\", n_samples=20)\n",
    "test_dataset = sample_disciplines(disciplines, uncertain_space, [\"mtom\",\"tofl\", \"vapp\", \"vz\", \"span\", \"length\", \"fm\"], algo_name=\"OT_MONTE_CARLO\", n_samples=20)"
   ]
  },
  {
   "cell_type": "markdown",
   "metadata": {},
   "source": [
    "# Try different surrogates"
   ]
  },
  {
   "cell_type": "code",
   "execution_count": 6,
   "metadata": {},
   "outputs": [
    {
     "name": "stdout",
     "output_type": "stream",
     "text": [
      " Testing surrogate: RBF_gaussian\n",
      " Testing surrogate: RBF_gaussian_mg\n",
      " Testing surrogate: Polynomial_deg2\n",
      " Testing surrogate: Polynomial_deg2\n",
      "\n",
      "Résultats comparatifs :\n",
      "                     fm  length    mtom  span    tofl    vapp      vz\n",
      "Model                                                                \n",
      "RBF_gaussian     0.8983     1.0  0.8295   1.0  0.8291  0.8386  0.8731\n",
      "RBF_gaussian_mg  0.9933     1.0  0.9920   1.0  0.9920  0.9924  0.9950\n",
      "Polynomial_deg2  0.9995     1.0  0.9889   1.0  0.9888  0.9886  0.9868\n",
      "Polynomial_deg2  0.9579     1.0  0.9715   1.0  0.9713  0.9713  0.9664\n"
     ]
    },
    {
     "data": {
      "text/plain": [
       "<Figure size 1200x600 with 0 Axes>"
      ]
     },
     "metadata": {},
     "output_type": "display_data"
    },
    {
     "data": {
      "image/png": "[encoded data removed]",
      "text/plain": [
       "<Figure size 1400x600 with 1 Axes>"
      ]
     },
     "metadata": {},
     "output_type": "display_data"
    }
   ],
   "source": [
    "surrogate_configs = [\n",
    "    {\"name\": \"RBF_gaussian\", \"model\": \"RBFRegressor\", \"function\": \"gaussian\"},\n",
    "    {\"name\": \"RBF_gaussian_mg\", \"model\": \"RBFRegressor\", \"function\": \"multiquadric\"},\n",
    "    {\"name\": \"Polynomial_deg2\", \"model\": \"PolynomialRegressor\", \"degree\": 2},\n",
    "    {\"name\": \"Polynomial_deg2\", \"model\": \"PolynomialRegressor\", \"degree\": 3},\n",
    "]\n",
    "\n",
    "results = []\n",
    "\n",
    "for config in surrogate_configs:\n",
    "    name = config[\"name\"]\n",
    "    model_type = config[\"model\"]\n",
    "    kwargs = {k: v for k, v in config.items() if k not in [\"name\", \"model\"]}\n",
    "\n",
    "    print(f\" Testing surrogate: {name}\")\n",
    "    \n",
    "    surrogate = SurrogateDiscipline(model_type, data=training_dataset, **kwargs)\n",
    "    r2 = surrogate.get_error_measure(\"R2Measure\")\n",
    "    test_scores = r2.compute_test_measure(test_dataset, as_dict=True)\n",
    "    \n",
    "    flat_scores = {key: float(value) for key, value in test_scores.items()}\n",
    "    flat_scores[\"Model\"] = name\n",
    "    results.append(flat_scores)\n",
    "\n",
    "df_results = pd.DataFrame(results)\n",
    "df_results = df_results.set_index(\"Model\")\n",
    "print(\"\\nRésultats comparatifs :\")\n",
    "print(df_results.round(4)\n",
    ")\n",
    "plt.figure(figsize=(12, 6))\n",
    "df_results.plot(kind=\"bar\", figsize=(14, 6))\n",
    "plt.title(\"Comparaison des surrogates (R² par variable)\")\n",
    "plt.ylabel(\"R²\")\n",
    "plt.ylim(0, 1.05)\n",
    "plt.grid(True, axis='y', linestyle='--', alpha=0.6)\n",
    "plt.legend(title=\"Variable de sortie\", bbox_to_anchor=(1.05, 1), loc='upper left')\n",
    "plt.tight_layout()\n",
    "plt.show()"
   ]
  },
  {
   "cell_type": "markdown",
   "metadata": {},
   "source": [
    "# Save best surrogate"
   ]
  },
  {
   "cell_type": "code",
   "execution_count": 7,
   "metadata": {},
   "outputs": [],
   "source": [
    "surrogate_discipline = SurrogateDiscipline(\"RBFRegressor\",data = training_dataset, function= \"multiquadric\")"
   ]
  },
  {
   "cell_type": "code",
   "execution_count": 8,
   "metadata": {},
   "outputs": [
    {
     "data": {
      "text/plain": [
       "{'fm': array([0.95793336]),\n",
       " 'length': array([1.]),\n",
       " 'mtom': array([0.97152337]),\n",
       " 'span': array([1.]),\n",
       " 'tofl': array([0.97134646]),\n",
       " 'vapp': array([0.97131246]),\n",
       " 'vz': array([0.96644342])}"
      ]
     },
     "execution_count": 8,
     "metadata": {},
     "output_type": "execute_result"
    }
   ],
   "source": [
    "r2.compute_test_measure(test_dataset, as_dict=True)"
   ]
  },
  {
   "cell_type": "code",
   "execution_count": 9,
   "metadata": {},
   "outputs": [
    {
     "data": {
      "text/plain": [
       "{'fm': array([0.00132199]),\n",
       " 'length': array([0.]),\n",
       " 'mtom': array([47.80350591]),\n",
       " 'span': array([0.]),\n",
       " 'tofl': array([1.9866095]),\n",
       " 'vapp': array([0.02325606]),\n",
       " 'vz': array([0.01163934])}"
      ]
     },
     "execution_count": 9,
     "metadata": {},
     "output_type": "execute_result"
    }
   ],
   "source": [
    "rmse = surrogate_discipline.get_error_measure(\"RMSEMeasure\")\n",
    "rmse.compute_test_measure(test_dataset, as_dict=True)"
   ]
  },
  {
   "cell_type": "code",
   "execution_count": 10,
   "metadata": {},
   "outputs": [],
   "source": [
    "to_pickle(surrogate_discipline, \"UC2_my_surrogate_2.pkl\")"
   ]
  },
  {
   "cell_type": "code",
   "execution_count": null,
   "metadata": {},
   "outputs": [],
   "source": []
  }
 ],
 "metadata": {
  "kernelspec": {
   "display_name": ".venv",
   "language": "python",
   "name": "python3"
  },
  "language_info": {
   "codemirror_mode": {
    "name": "ipython",
    "version": 3
   },
   "file_extension": ".py",
   "mimetype": "text/x-python",
   "name": "python",
   "nbconvert_exporter": "python",
   "pygments_lexer": "ipython3",
   "version": "3.11.7"
  }
 },
 "nbformat": 4,
 "nbformat_minor": 2
}
