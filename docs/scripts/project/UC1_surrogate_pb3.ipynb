{
 "cells": [
  {
   "cell_type": "markdown",
   "id": "12bacd04",
   "metadata": {},
   "source": [
    "# Import "
   ]
  },
  {
   "cell_type": "code",
   "execution_count": 1,
   "id": "8ca088e9",
   "metadata": {},
   "outputs": [
    {
     "data": {
      "text/plain": [
       "<RootLogger root (INFO)>"
      ]
     },
     "execution_count": 1,
     "metadata": {},
     "output_type": "execute_result"
    }
   ],
   "source": [
    "from gemseo_oad_training.models import aerodynamic\n",
    "from gemseo_oad_training.models import approach\n",
    "from gemseo_oad_training.models import battery\n",
    "from gemseo_oad_training.models import climb\n",
    "from gemseo_oad_training.models import engine\n",
    "from gemseo_oad_training.models import fuel_tank\n",
    "from gemseo_oad_training.models import geometry\n",
    "from gemseo_oad_training.models import mass\n",
    "from gemseo_oad_training.models import mission\n",
    "from gemseo_oad_training.models import operating_cost\n",
    "from gemseo_oad_training.models import take_off\n",
    "from gemseo_oad_training.models import total_mass\n",
    "from gemseo import configure_logger\n",
    "from gemseo.disciplines.auto_py import AutoPyDiscipline\n",
    "from matplotlib import pyplot as plt\n",
    "from gemseo.uncertainty.statistics.empirical_statistics import EmpiricalStatistics\n",
    "from gemseo import sample_disciplines\n",
    "from gemseo.algos.parameter_space import ParameterSpace\n",
    "import pprint\n",
    "from gemseo.algos.parameter_space import ParameterSpace\n",
    "from gemseo.disciplines.analytic import AnalyticDiscipline\n",
    "from gemseo.uncertainty.sensitivity.sobol_analysis import SobolAnalysis\n",
    "from numpy import pi\n",
    "import numpy as np\n",
    "from gemseo import to_pickle\n",
    "from gemseo.disciplines.surrogate import SurrogateDiscipline\n",
    "from lh2pac.utils import update_default_inputs\n",
    "from numpy import array\n",
    "from gemseo import from_pickle\n",
    "from gemseo import to_pickle\n",
    "import pandas as pd\n",
    "\n",
    "configure_logger()"
   ]
  },
  {
   "cell_type": "markdown",
   "id": "6f7985c8",
   "metadata": {},
   "source": [
    "# Instanciate disciplines"
   ]
  },
  {
   "cell_type": "code",
   "execution_count": 2,
   "id": "ec271887",
   "metadata": {},
   "outputs": [],
   "source": [
    "# On veut résoudre le problème 1 avec UC1 et UC2\n",
    "disciplines = [AutoPyDiscipline(aerodynamic), AutoPyDiscipline(approach), AutoPyDiscipline(battery), AutoPyDiscipline(climb), AutoPyDiscipline(engine), AutoPyDiscipline(fuel_tank), AutoPyDiscipline(geometry), AutoPyDiscipline(mass), AutoPyDiscipline(mission), AutoPyDiscipline(operating_cost), AutoPyDiscipline(take_off), AutoPyDiscipline(total_mass)]"
   ]
  },
  {
   "cell_type": "markdown",
   "id": "9ccc1665",
   "metadata": {},
   "source": [
    "# Fix optimal parameters"
   ]
  },
  {
   "cell_type": "code",
   "execution_count": 7,
   "id": "3a0a752e",
   "metadata": {},
   "outputs": [
    {
     "data": {
      "text/plain": [
       "{'area': 108.0711016127496, 'ar': 14.80506792391749, 'length': 37.0, 'aef': 1.0}"
      ]
     },
     "execution_count": 7,
     "metadata": {},
     "output_type": "execute_result"
    }
   ],
   "source": [
    "update_default_inputs(disciplines, {\"slst\": 100000, \"n_pax\":120, \"area\":108.0711016127496, \"ar\":14.80506792391749})\n",
    "disciplines[0].io.input_grammar.defaults"
   ]
  },
  {
   "cell_type": "markdown",
   "id": "de426d6a",
   "metadata": {},
   "source": [
    "# Create design space"
   ]
  },
  {
   "cell_type": "code",
   "execution_count": 9,
   "id": "4123053e",
   "metadata": {},
   "outputs": [],
   "source": [
    "from gemseo.algos.design_space import DesignSpace\n",
    "from gemseo_oad_training.unit import convert_from\n",
    "\n",
    "design_space = DesignSpace()\n",
    "design_space.add_variable('slst', lower_bound=100000.0, upper_bound=200000.0, value=150000.0)\n",
    "design_space.add_variable('n_pax', lower_bound=120, upper_bound=180, value=150)\n",
    "design_space.add_variable('area', lower_bound=100, upper_bound=200, value=180)\n",
    "design_space.add_variable('ar', lower_bound=5, upper_bound=20, value=9)\n",
    "design_space.add_variable('aef', lower_bound=0.99, upper_bound=1.03, value=1.0)\n",
    "design_space.add_variable('cef', lower_bound=0.99, upper_bound=1.03, value=1.0)\n",
    "design_space.add_variable('sef', lower_bound=0.99, upper_bound=1.03, value=1.0)"
   ]
  },
  {
   "cell_type": "markdown",
   "id": "a2bf149a",
   "metadata": {},
   "source": [
    "# Split train/test dataset"
   ]
  },
  {
   "cell_type": "markdown",
   "id": "a5cedbb0",
   "metadata": {},
   "source": [
    "c'est les bon algos names ?"
   ]
  },
  {
   "cell_type": "code",
   "execution_count": 10,
   "id": "dcf284f4",
   "metadata": {},
   "outputs": [
    {
     "name": "stderr",
     "output_type": "stream",
     "text": [
      "    INFO - 15:06:33: *** Start Sampling execution ***\n",
      "    INFO - 15:06:33: Sampling\n",
      "    INFO - 15:06:33:    Disciplines: aerodynamic approach battery climb engine fuel_tank geometry mass mission operating_cost take_off total_mass\n",
      "    INFO - 15:06:33:    MDO formulation: MDF\n",
      "    INFO - 15:06:33: Running the algorithm OT_OPT_LHS:\n",
      "    INFO - 15:06:33:    100%|██████████| 20/20 [00:00<00:00, 313.70 it/sec]\n",
      "    INFO - 15:06:33: *** End Sampling execution (time: 0:00:00.069981) ***\n",
      "    INFO - 15:06:33: *** Start Sampling execution ***\n",
      "    INFO - 15:06:33: Sampling\n",
      "    INFO - 15:06:33:    Disciplines: aerodynamic approach battery climb engine fuel_tank geometry mass mission operating_cost take_off total_mass\n",
      "    INFO - 15:06:33:    MDO formulation: MDF\n",
      "    INFO - 15:06:33: Running the algorithm OT_MONTE_CARLO:\n",
      "    INFO - 15:06:34:    100%|██████████| 20/20 [00:00<00:00, 330.01 it/sec]\n",
      "    INFO - 15:06:34: *** End Sampling execution (time: 0:00:00.062849) ***\n"
     ]
    }
   ],
   "source": [
    "training_dataset = sample_disciplines(disciplines, design_space, [\"mtom\",\"tofl\", \"vapp\", \"vz\", \"span\", \"length\", \"fm\"], algo_name=\"OT_OPT_LHS\", n_samples=20)\n",
    "test_dataset = sample_disciplines(disciplines, design_space, [\"mtom\",\"tofl\", \"vapp\", \"vz\", \"span\", \"length\", \"fm\"], algo_name=\"OT_MONTE_CARLO\", n_samples=20)"
   ]
  },
  {
   "cell_type": "markdown",
   "id": "9301faa6",
   "metadata": {},
   "source": [
    "# Try different surrogate"
   ]
  },
  {
   "cell_type": "code",
   "execution_count": 11,
   "id": "3c130b7f",
   "metadata": {},
   "outputs": [
    {
     "name": "stdout",
     "output_type": "stream",
     "text": [
      " Testing surrogate: RBF_gaussian_5\n",
      " Testing surrogate: RBF_gaussian_4\n",
      " Testing surrogate: RBF_gaussian_2\n",
      " Testing surrogate: RBF_gaussian_mg\n",
      " Testing surrogate: Polynomial_deg2\n",
      " Testing surrogate: Polynomial_deg2\n",
      "\n",
      "Résultats comparatifs :\n",
      "                     fm  length    mtom    span    tofl    vapp      vz\n",
      "Model                                                                  \n",
      "RBF_gaussian_5   0.9805  0.9998  0.9588  0.9744  0.9193  0.9844  0.9290\n",
      "RBF_gaussian_4   0.9803  0.9995  0.9610  0.9757  0.9181  0.9839  0.9301\n",
      "RBF_gaussian_2   0.9744  0.9934  0.9716  0.9808  0.9036  0.9746  0.9360\n",
      "RBF_gaussian_mg  0.9805  1.0000  0.9697  0.9739  0.9451  0.9828  0.9474\n",
      "Polynomial_deg2  0.9804  0.9767  0.9073  0.9550  0.8035  0.9448  0.7878\n",
      "Polynomial_deg2  0.9600  0.9292  0.8679  0.9256  0.7226  0.8871  0.6400\n"
     ]
    },
    {
     "data": {
      "text/plain": [
       "<Figure size 1200x600 with 0 Axes>"
      ]
     },
     "metadata": {},
     "output_type": "display_data"
    },
    {
     "data": {
      "image/png": "[encoded data removed]",
      "text/plain": [
       "<Figure size 1400x600 with 1 Axes>"
      ]
     },
     "metadata": {},
     "output_type": "display_data"
    }
   ],
   "source": [
    "surrogate_configs = [\n",
    "    {\"name\": \"RBF_gaussian_5\", \"model\": \"RBFRegressor\", \"function\": \"gaussian\", \"epsilon\": 5},\n",
    "    {\"name\": \"RBF_gaussian_4\", \"model\": \"RBFRegressor\", \"function\": \"gaussian\", \"epsilon\": 4},\n",
    "    {\"name\": \"RBF_gaussian_2\", \"model\": \"RBFRegressor\", \"function\": \"gaussian\", \"epsilon\": 2},\n",
    "    {\"name\": \"RBF_gaussian_mg\", \"model\": \"RBFRegressor\", \"function\": \"multiquadric\", \"epsilon\": 5},\n",
    "    {\"name\": \"Polynomial_deg2\", \"model\": \"PolynomialRegressor\", \"degree\": 2},\n",
    "    {\"name\": \"Polynomial_deg2\", \"model\": \"PolynomialRegressor\", \"degree\": 3},\n",
    "]\n",
    "\n",
    "results = []\n",
    "\n",
    "for config in surrogate_configs:\n",
    "    name = config[\"name\"]\n",
    "    model_type = config[\"model\"]\n",
    "    kwargs = {k: v for k, v in config.items() if k not in [\"name\", \"model\"]}\n",
    "\n",
    "    print(f\" Testing surrogate: {name}\")\n",
    "    \n",
    "    surrogate = SurrogateDiscipline(model_type, data=training_dataset, **kwargs)\n",
    "    r2 = surrogate.get_error_measure(\"R2Measure\")\n",
    "    test_scores = r2.compute_test_measure(test_dataset, as_dict=True)\n",
    "    \n",
    "    flat_scores = {key: float(value) for key, value in test_scores.items()}\n",
    "    flat_scores[\"Model\"] = name\n",
    "    results.append(flat_scores)\n",
    "\n",
    "df_results = pd.DataFrame(results)\n",
    "df_results = df_results.set_index(\"Model\")\n",
    "print(\"\\nRésultats comparatifs :\")\n",
    "print(df_results.round(4)\n",
    ")\n",
    "plt.figure(figsize=(12, 6))\n",
    "df_results.plot(kind=\"bar\", figsize=(14, 6))\n",
    "plt.title(\"Comparaison des surrogates (R² par variable)\")\n",
    "plt.ylabel(\"R²\")\n",
    "plt.ylim(0, 1.05)\n",
    "plt.grid(True, axis='y', linestyle='--', alpha=0.6)\n",
    "plt.legend(title=\"Variable de sortie\", bbox_to_anchor=(1.05, 1), loc='upper left')\n",
    "plt.tight_layout()\n",
    "plt.show()"
   ]
  },
  {
   "cell_type": "markdown",
   "id": "2c416a53",
   "metadata": {},
   "source": [
    "# Save best surrogate"
   ]
  },
  {
   "cell_type": "code",
   "execution_count": 15,
   "id": "c29b9877",
   "metadata": {},
   "outputs": [],
   "source": [
    "surrogate_discipline = SurrogateDiscipline(\"RBFRegressor\", epsilon = 5, data = training_dataset, function=\"multiquadric\")"
   ]
  },
  {
   "cell_type": "code",
   "execution_count": 16,
   "id": "a8ed8e38",
   "metadata": {},
   "outputs": [
    {
     "data": {
      "text/plain": [
       "{'fm': array([0.96001246]),\n",
       " 'length': array([0.92916679]),\n",
       " 'mtom': array([0.86794751]),\n",
       " 'span': array([0.92564715]),\n",
       " 'tofl': array([0.72256997]),\n",
       " 'vapp': array([0.88710383]),\n",
       " 'vz': array([0.64004129])}"
      ]
     },
     "execution_count": 16,
     "metadata": {},
     "output_type": "execute_result"
    }
   ],
   "source": [
    "r2.compute_test_measure(test_dataset, as_dict=True)"
   ]
  },
  {
   "cell_type": "code",
   "execution_count": 17,
   "id": "60486c11",
   "metadata": {},
   "outputs": [
    {
     "data": {
      "text/plain": [
       "{'fm': array([0.0896333]),\n",
       " 'length': array([0.02529237]),\n",
       " 'mtom': array([623.17419777]),\n",
       " 'span': array([1.33376472]),\n",
       " 'tofl': array([90.20774445]),\n",
       " 'vapp': array([0.83017623]),\n",
       " 'vz': array([0.88346589])}"
      ]
     },
     "execution_count": 17,
     "metadata": {},
     "output_type": "execute_result"
    }
   ],
   "source": [
    "rmse = surrogate_discipline.get_error_measure(\"RMSEMeasure\")\n",
    "rmse.compute_test_measure(test_dataset, as_dict=True)"
   ]
  },
  {
   "cell_type": "code",
   "execution_count": 18,
   "id": "f9061151",
   "metadata": {},
   "outputs": [],
   "source": [
    "to_pickle(surrogate_discipline, \"my_surrogate_3.pkl\")"
   ]
  }
 ],
 "metadata": {
  "kernelspec": {
   "display_name": ".venv",
   "language": "python",
   "name": "python3"
  },
  "language_info": {
   "codemirror_mode": {
    "name": "ipython",
    "version": 3
   },
   "file_extension": ".py",
   "mimetype": "text/x-python",
   "name": "python",
   "nbconvert_exporter": "python",
   "pygments_lexer": "ipython3",
   "version": "3.10.12"
  }
 },
 "nbformat": 4,
 "nbformat_minor": 5
}
