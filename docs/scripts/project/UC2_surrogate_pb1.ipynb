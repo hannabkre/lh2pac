{
 "cells": [
  {
   "cell_type": "markdown",
   "id": "77317006",
   "metadata": {},
   "source": [
    "# Import"
   ]
  },
  {
   "cell_type": "code",
   "execution_count": 1,
   "id": "4b56dff3",
   "metadata": {},
   "outputs": [
    {
     "data": {
      "text/plain": [
       "<RootLogger root (INFO)>"
      ]
     },
     "execution_count": 1,
     "metadata": {},
     "output_type": "execute_result"
    }
   ],
   "source": [
    "from gemseo_oad_training.models import aerodynamic\n",
    "from gemseo_oad_training.models import approach\n",
    "from gemseo_oad_training.models import battery\n",
    "from gemseo_oad_training.models import climb\n",
    "from gemseo_oad_training.models import engine\n",
    "from gemseo_oad_training.models import fuel_tank\n",
    "from gemseo_oad_training.models import geometry\n",
    "from gemseo_oad_training.models import mass\n",
    "from gemseo_oad_training.models import mission\n",
    "from gemseo_oad_training.models import operating_cost\n",
    "from gemseo_oad_training.models import take_off\n",
    "from gemseo_oad_training.models import total_mass\n",
    "\n",
    "from gemseo import configure_logger\n",
    "from gemseo.disciplines.auto_py import AutoPyDiscipline\n",
    "from lh2pac.utils import update_default_inputs\n",
    "\n",
    "from gemseo.algos.design_space import DesignSpace\n",
    "\n",
    "from gemseo import sample_disciplines\n",
    "from gemseo.disciplines.surrogate import SurrogateDiscipline\n",
    "\n",
    "import pandas as pd\n",
    "import matplotlib.pyplot as plt\n",
    "\n",
    "from gemseo import to_pickle\n",
    "\n",
    "configure_logger()"
   ]
  },
  {
   "cell_type": "markdown",
   "id": "07333047",
   "metadata": {},
   "source": [
    "# Instanciate disciplines"
   ]
  },
  {
   "cell_type": "code",
   "execution_count": 2,
   "id": "9ee4ad4a",
   "metadata": {},
   "outputs": [],
   "source": [
    "disciplines = [AutoPyDiscipline(aerodynamic), AutoPyDiscipline(approach), AutoPyDiscipline(battery), AutoPyDiscipline(climb), AutoPyDiscipline(engine), AutoPyDiscipline(fuel_tank), AutoPyDiscipline(geometry), AutoPyDiscipline(mass), AutoPyDiscipline(mission), AutoPyDiscipline(operating_cost), AutoPyDiscipline(take_off), AutoPyDiscipline(total_mass)]"
   ]
  },
  {
   "cell_type": "code",
   "execution_count": 3,
   "id": "258c2a20",
   "metadata": {},
   "outputs": [
    {
     "data": {
      "text/plain": [
       "{'fuel_type': 'liquid_h2', 'gi': 0.4, 'tkv': 20.0}"
      ]
     },
     "execution_count": 3,
     "metadata": {},
     "output_type": "execute_result"
    }
   ],
   "source": [
    "update_default_inputs(disciplines, {\"fuel_type\": \"liquid_h2\"})\n",
    "disciplines[5].io.input_grammar.defaults"
   ]
  },
  {
   "cell_type": "markdown",
   "id": "3bf393ea",
   "metadata": {},
   "source": [
    "# Create design space"
   ]
  },
  {
   "cell_type": "code",
   "execution_count": 4,
   "id": "4bc89955",
   "metadata": {},
   "outputs": [],
   "source": [
    "design_space = DesignSpace()\n",
    "design_space.add_variable('slst', lower_bound=100000.0, upper_bound=200000.0, value=150000.0)\n",
    "design_space.add_variable('n_pax', lower_bound=120, upper_bound=180, value=150)\n",
    "design_space.add_variable('area', lower_bound=100, upper_bound=200, value=180)\n",
    "design_space.add_variable('ar', lower_bound=5, upper_bound=20, value=9)"
   ]
  },
  {
   "cell_type": "markdown",
   "id": "99b8b26f",
   "metadata": {},
   "source": [
    "# Create training and test dataset"
   ]
  },
  {
   "cell_type": "code",
   "execution_count": 5,
   "id": "f3e8d820",
   "metadata": {},
   "outputs": [
    {
     "name": "stderr",
     "output_type": "stream",
     "text": [
      "    INFO - 13:12:03: *** Start Sampling execution ***\n",
      "    INFO - 13:12:03: Sampling\n",
      "    INFO - 13:12:03:    Disciplines: aerodynamic approach battery climb engine fuel_tank geometry mass mission operating_cost take_off total_mass\n",
      "    INFO - 13:12:03:    MDO formulation: MDF\n",
      "    INFO - 13:12:03: Running the algorithm OT_OPT_LHS:\n",
      "    INFO - 13:12:03:    100%|██████████| 20/20 [00:00<00:00, 244.37 it/sec]\n",
      "    INFO - 13:12:03: *** End Sampling execution (time: 0:00:00.090365) ***\n",
      "    INFO - 13:12:03: *** Start Sampling execution ***\n",
      "    INFO - 13:12:03: Sampling\n",
      "    INFO - 13:12:03:    Disciplines: aerodynamic approach battery climb engine fuel_tank geometry mass mission operating_cost take_off total_mass\n",
      "    INFO - 13:12:03:    MDO formulation: MDF\n",
      "    INFO - 13:12:03: Running the algorithm OT_MONTE_CARLO:\n",
      "    INFO - 13:12:03:    100%|██████████| 20/20 [00:00<00:00, 301.62 it/sec]\n",
      "    INFO - 13:12:03: *** End Sampling execution (time: 0:00:00.068942) ***\n"
     ]
    }
   ],
   "source": [
    "training_dataset = sample_disciplines(disciplines, design_space, [\"mtom\", \"tofl\", \"vapp\", \"vz\", \"span\", \"length\", \"fm\"], algo_name=\"OT_OPT_LHS\", n_samples=20)\n",
    "\n",
    "test_dataset = sample_disciplines(disciplines, design_space, [\"mtom\", \"tofl\", \"vapp\", \"vz\", \"span\", \"length\", \"fm\"], algo_name=\"OT_MONTE_CARLO\", n_samples=20)"
   ]
  },
  {
   "cell_type": "markdown",
   "id": "8eb013a7",
   "metadata": {},
   "source": [
    "# Try different surrogate"
   ]
  },
  {
   "cell_type": "code",
   "execution_count": 6,
   "id": "9bf05ff3",
   "metadata": {},
   "outputs": [
    {
     "name": "stdout",
     "output_type": "stream",
     "text": [
      " Testing surrogate: RBF_gaussian\n",
      " Testing surrogate: RBF_gaussian_mg\n",
      " Testing surrogate: Polynomial_deg2\n",
      " Testing surrogate: Polynomial_deg3\n",
      "\n",
      "Résultats comparatifs :\n",
      "                     fm  length    mtom    span    tofl    vapp      vz\n",
      "Model                                                                  \n",
      "RBF_gaussian     0.8208  0.8077  0.8880  0.8524  0.7597  0.7812  0.8216\n",
      "RBF_gaussian_mg  0.9876  0.9933  0.9825  0.9942  0.9873  0.9882  0.9836\n",
      "Polynomial_deg2  0.9633  1.0000  0.9810  0.9988  0.9863  0.9968  0.9874\n",
      "Polynomial_deg3  0.9405  0.9999  0.9652  0.9965  0.9858  0.9933  0.9712\n"
     ]
    },
    {
     "data": {
      "text/plain": [
       "<Figure size 1200x600 with 0 Axes>"
      ]
     },
     "metadata": {},
     "output_type": "display_data"
    },
    {
     "data": {
      "image/png": "[encoded data removed]",
      "text/plain": [
       "<Figure size 1400x600 with 1 Axes>"
      ]
     },
     "metadata": {},
     "output_type": "display_data"
    }
   ],
   "source": [
    "surrogate_configs = [\n",
    "    {\"name\": \"RBF_gaussian\", \"model\": \"RBFRegressor\", \"function\": \"gaussian\"},\n",
    "    {\"name\": \"RBF_gaussian_mg\", \"model\": \"RBFRegressor\", \"function\": \"multiquadric\"},\n",
    "    {\"name\": \"Polynomial_deg2\", \"model\": \"PolynomialRegressor\", \"degree\": 2},\n",
    "    {\"name\": \"Polynomial_deg3\", \"model\": \"PolynomialRegressor\", \"degree\": 3},\n",
    "]\n",
    "\n",
    "results = []\n",
    "\n",
    "for config in surrogate_configs:\n",
    "    name = config[\"name\"]\n",
    "    model_type = config[\"model\"]\n",
    "    kwargs = {k: v for k, v in config.items() if k not in [\"name\", \"model\"]}\n",
    "\n",
    "    print(f\" Testing surrogate: {name}\")\n",
    "    \n",
    "    surrogate = SurrogateDiscipline(model_type, data=training_dataset, **kwargs)\n",
    "    r2 = surrogate.get_error_measure(\"R2Measure\")\n",
    "    test_scores = r2.compute_test_measure(test_dataset, as_dict=True)\n",
    "    \n",
    "    flat_scores = {key: float(value) for key, value in test_scores.items()}\n",
    "    flat_scores[\"Model\"] = name\n",
    "    results.append(flat_scores)\n",
    "\n",
    "df_results = pd.DataFrame(results)\n",
    "df_results = df_results.set_index(\"Model\")\n",
    "print(\"\\nRésultats comparatifs :\")\n",
    "print(df_results.round(4)\n",
    ")\n",
    "plt.figure(figsize=(12, 6))\n",
    "df_results.plot(kind=\"bar\", figsize=(14, 6))\n",
    "plt.title(\"Comparaison des surrogates (R² par variable)\")\n",
    "plt.ylabel(\"R²\")\n",
    "plt.ylim(0, 1.05)\n",
    "plt.grid(True, axis='y', linestyle='--', alpha=0.6)\n",
    "plt.legend(title=\"Variable de sortie\", bbox_to_anchor=(1.05, 1), loc='upper left')\n",
    "plt.tight_layout()\n",
    "plt.show()"
   ]
  },
  {
   "cell_type": "markdown",
   "id": "7ee3e2c5",
   "metadata": {},
   "source": [
    "# Save best surrogate"
   ]
  },
  {
   "cell_type": "code",
   "execution_count": 7,
   "id": "951c567a",
   "metadata": {},
   "outputs": [],
   "source": [
    "surrogate_discipline = SurrogateDiscipline(\"RBFRegressor\", function=\"gaussian\", data = training_dataset)"
   ]
  },
  {
   "cell_type": "code",
   "execution_count": 8,
   "id": "d891338e",
   "metadata": {},
   "outputs": [
    {
     "data": {
      "text/plain": [
       "{'fm': array([0.9405297]),\n",
       " 'length': array([0.99989521]),\n",
       " 'mtom': array([0.96519996]),\n",
       " 'span': array([0.9965201]),\n",
       " 'tofl': array([0.98577248]),\n",
       " 'vapp': array([0.9932944]),\n",
       " 'vz': array([0.97119482])}"
      ]
     },
     "execution_count": 8,
     "metadata": {},
     "output_type": "execute_result"
    }
   ],
   "source": [
    "r2.compute_test_measure(test_dataset, as_dict=True)"
   ]
  },
  {
   "cell_type": "code",
   "execution_count": 9,
   "id": "deaf2c9e",
   "metadata": {},
   "outputs": [
    {
     "data": {
      "text/plain": [
       "{'fm': array([0.09786111]),\n",
       " 'length': array([1.45737431]),\n",
       " 'mtom': array([1428.97068754]),\n",
       " 'span': array([3.33344218]),\n",
       " 'tofl': array([152.03251132]),\n",
       " 'vapp': array([2.92512454]),\n",
       " 'vz': array([1.75663787])}"
      ]
     },
     "execution_count": 9,
     "metadata": {},
     "output_type": "execute_result"
    }
   ],
   "source": [
    "rmse = surrogate_discipline.get_error_measure(\"RMSEMeasure\")\n",
    "rmse.compute_test_measure(test_dataset, as_dict=True)"
   ]
  },
  {
   "cell_type": "code",
   "execution_count": 10,
   "id": "43cbc3fd",
   "metadata": {},
   "outputs": [],
   "source": [
    "to_pickle(surrogate_discipline, \"UC2_my_surrogate_1.pkl\")"
   ]
  },
  {
   "cell_type": "code",
   "execution_count": null,
   "id": "cb086d45",
   "metadata": {},
   "outputs": [],
   "source": []
  }
 ],
 "metadata": {
  "kernelspec": {
   "display_name": ".venv",
   "language": "python",
   "name": "python3"
  },
  "language_info": {
   "codemirror_mode": {
    "name": "ipython",
    "version": 3
   },
   "file_extension": ".py",
   "mimetype": "text/x-python",
   "name": "python",
   "nbconvert_exporter": "python",
   "pygments_lexer": "ipython3",
   "version": "3.10.12"
  }
 },
 "nbformat": 4,
 "nbformat_minor": 5
}
