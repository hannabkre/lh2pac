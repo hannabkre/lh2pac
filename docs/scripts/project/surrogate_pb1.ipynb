{
 "cells": [
  {
   "cell_type": "markdown",
   "metadata": {},
   "source": [
    "# 4 OAD updates\n",
    "\n",
    "In this project,\n",
    "we seek to optimize an aircraft of approximately 150 passengers that flies at Mach 0.78,\n",
    "using different engine and fuel technologies.\n",
    "\n",
    "## The OAD problem\n",
    "\n",
    "The OAD problem is to find the values of the design parameters \n",
    "that minimize the maximum take-off mass (MTOM, `mtom` in the code) under some operation constraints.\n",
    "Note that the MTOM of an airplane is a good criterion to optimize the design.\n",
    "Alternative objectives are the cash operating cost (COC, `coc` in the code) or the direct operating cost (DOC, `doc` in the code).\n",
    "\n",
    "### The design parameters\n",
    "\n",
    "The **design parameters** are :\n",
    "\n",
    "- the maximum sea level static thrust  (100 kN ≤ slst ≤ 200 kN, default: 150 kN),\n",
    "- the number of passengers  (120 ≤ n_pax ≤ 180, default: 150),\n",
    "- the wing area (100 m² ≤ area ≤ 200 m², default: 180 m²),\n",
    "- the wing aspect ratio  (5 ≤ ar ≤ 20, default: 9.).\n",
    "\n",
    "### The operational constraints\n",
    "\n",
    "The **operational constraints** are :\n",
    "\n",
    "- the take-off field length (tofl ≤ 1900 m),\n",
    "- the approach speed (vapp ≤ 135 kt),\n",
    "- the vertical speed (300 ft/min ≤ vz),\n",
    "- the wing span (span ≤ 40 m),\n",
    "- the wing length (length ≤ 45 m),\n",
    "- the fuel margin (0% ≤ fm).\n",
    "\n",
    "## The uncertain parameters\n",
    "\n",
    "In Problems 2 and 3,\n",
    "some parameters are considered as uncertain.\n",
    "\n",
    "These uncertain parameters are modelled as random variables defined by probability distributions:\n",
    "\n",
    "| Variable | Distribution          | Fuel type | Engine type |\n",
    "|----------|-----------------------|-----------|-------------|\n",
    "| `gi`     | T(0.35, 0.4, 0.405)   | liquid_h2 | All         |\n",
    "| `vi`     | T(0.755, 0.800, 0805) | liquid_h2 | All         |\n",
    "| `aef`    | T(0.99, 1., 1.03)     | All       | All         |\n",
    "| `cef`    | T(0.99, 1., 1.03)     | All       | All         |\n",
    "| `aef`    | T(0.99, 1., 1.03)     | All       | All         |\n",
    "| `fc_pwd` | T(0.8, 1, 1.02)       | liquid_h2 | electrofan  |\n",
    "| `bed`    | U(400,700)            | battery   | All         |\n",
    "\n",
    "where `T(minimum, mode, maximum)` and `U(minimum,maximum)`\n",
    "represent the [triangular distribution](https://en.wikipedia.org/wiki/Triangular_distribution)\n",
    "and the [uniform distribution](https://en.wikipedia.org/wiki/Continuous_uniform_distribution) respectively.\n",
    "the last two columns indicate the type of fuel and the type of engine\n",
    "for which these uncertain parameters are relevant.\n",
    "\n",
    "The parameters `aef`, `cef` and `aef` are related\n",
    "to the three main technical areas involved in aircraft design,\n",
    "namely aerodynamics, propulsion and structure.\n",
    "The lower, the better.\n",
    "These factors are representing the unknown\n",
    "included in any creative activity.\n",
    "Their probability distributions are not symmetrical\n",
    "as it is always easier to make something less efficient than expected...\n",
    "\n",
    "## The 12 models\n",
    "\n",
    "The 12 models are defined in `gemseo-oad` as Python functions:\n",
    "\n"
   ]
  },
  {
   "cell_type": "code",
   "execution_count": 1,
   "metadata": {},
   "outputs": [],
   "source": [
    "from gemseo_oad_training.models import aerodynamic\n",
    "from gemseo_oad_training.models import approach\n",
    "from gemseo_oad_training.models import battery\n",
    "from gemseo_oad_training.models import climb\n",
    "from gemseo_oad_training.models import engine\n",
    "from gemseo_oad_training.models import fuel_tank\n",
    "from gemseo_oad_training.models import geometry\n",
    "from gemseo_oad_training.models import mass\n",
    "from gemseo_oad_training.models import mission\n",
    "from gemseo_oad_training.models import operating_cost\n",
    "from gemseo_oad_training.models import take_off\n",
    "from gemseo_oad_training.models import total_mass"
   ]
  },
  {
   "cell_type": "code",
   "execution_count": 2,
   "metadata": {},
   "outputs": [
    {
     "data": {
      "text/plain": [
       "<RootLogger root (INFO)>"
      ]
     },
     "execution_count": 2,
     "metadata": {},
     "output_type": "execute_result"
    }
   ],
   "source": [
    "from gemseo import configure_logger\n",
    "\n",
    "configure_logger()"
   ]
  },
  {
   "cell_type": "markdown",
   "metadata": {},
   "source": [
    "## Problème 1 - Modélisation par surrogate et optimisation\n",
    "\n",
    "Nous allons créer un modèle de substitution (surrogate model) noté :\n",
    "\n",
    "$$\n",
    "\\hat{f} : x \\mapsto \\hat{f}(x) = f(x, u_{\\mathrm{default}})\n",
    "$$\n",
    "\n",
    "Ce modèle approxime la fonction objectif ainsi que les contraintes du problème de conception, en fonction des paramètres de conception \\(x\\), avec les conditions d'utilisation fixées à $u_{\\mathrm{default}}$.\n",
    "\n",
    "Une fois ce modèle construit, nous l'utiliserons dans un processus d'optimisation pour :\n",
    "\n",
    "- **Minimiser** la fonction objectif,\n",
    "- **Respecter** les contraintes imposées,\n",
    "\n",
    "en faisant varier les paramètres de conception \\(x\\).\n",
    "\n"
   ]
  },
  {
   "cell_type": "markdown",
   "metadata": {},
   "source": [
    "## The units\n",
    "\n",
    "The use cases are written using common units.\n",
    "\n",
    "The models only know STANDARD UNITS which means\n",
    "that all data provided to the function MUST be expressed in standard units\n",
    "and that all data retrieved by the function are expressed in standard units.\n",
    "\n",
    "!!! tip \"Convert units\"\n",
    "    The functions `convert_from` and `convert_to` from `gemseo_oad_training.unit` can make the conversion easier.\n",
    "\n",
    "## The four use cases\n",
    "\n",
    "| Id  | Fuel type | Engine type | Design range (km) |\n",
    "|-----|-----------|-------------|-------------------|\n",
    "| UC1 | Kerosene  | Turbofan    | 5500              |\n",
    "| UC2 | Hydrogen  | Turbofan    | 5500              |\n",
    "| UC3 | Hydrogen  | Electrofan  | 5500              |\n",
    "| UC4 | Battery   | Electrofan  | 500               |"
   ]
  },
  {
   "cell_type": "code",
   "execution_count": 3,
   "metadata": {},
   "outputs": [],
   "source": [
    "# On veut résoudre le problème 1 avec UC1 et UC2\n",
    "from gemseo.disciplines.auto_py import AutoPyDiscipline\n",
    "\n",
    "disciplines = [AutoPyDiscipline(aerodynamic), AutoPyDiscipline(approach), AutoPyDiscipline(battery), AutoPyDiscipline(climb), AutoPyDiscipline(engine), AutoPyDiscipline(fuel_tank), AutoPyDiscipline(geometry), AutoPyDiscipline(mass), AutoPyDiscipline(mission), AutoPyDiscipline(operating_cost), AutoPyDiscipline(take_off), AutoPyDiscipline(total_mass)]"
   ]
  },
  {
   "cell_type": "code",
   "execution_count": 4,
   "metadata": {},
   "outputs": [],
   "source": [
    "# Create the design space\n",
    "from gemseo.algos.design_space import DesignSpace\n",
    "from gemseo_oad_training.unit import convert_from\n",
    "\n",
    "design_space = DesignSpace()\n",
    "\n",
    "design_space.add_variable('slst', lower_bound=100000.0, upper_bound=200000.0, value=150000.0)\n",
    "design_space.add_variable('n_pax', lower_bound=120, upper_bound=180, value=150)\n",
    "design_space.add_variable('area', lower_bound=100, upper_bound=200, value=180)\n",
    "design_space.add_variable('ar', lower_bound=5, upper_bound=20, value=9)"
   ]
  },
  {
   "cell_type": "code",
   "execution_count": 5,
   "metadata": {},
   "outputs": [],
   "source": [
    "# Add the constraints\n",
    "from gemseo.scenarios.mdo_scenario import MDOScenario\n",
    "scenario = MDOScenario(disciplines=disciplines, design_space=design_space, objective_name= \"mtom\",formulation_name='MDF')\n",
    "scenario.add_constraint('tofl', constraint_type='ineq', value=1900.0, positive=False)\n",
    "scenario.add_constraint('vapp', constraint_type='ineq', value=convert_from(\"kt\",135.0), positive=False)\n",
    "scenario.add_constraint('vz', constraint_type='ineq', value=convert_from(\"ft/min\",300.0), positive=True)\n",
    "scenario.add_constraint('span', constraint_type='ineq', value=40.0, positive=False)\n",
    "scenario.add_constraint('length', constraint_type='ineq', value=45.0, positive=False)\n",
    "scenario.add_constraint('fm', constraint_type='ineq', value=0.0, positive=True)"
   ]
  },
  {
   "cell_type": "code",
   "execution_count": 27,
   "metadata": {},
   "outputs": [
    {
     "name": "stderr",
     "output_type": "stream",
     "text": [
      "    INFO - 15:33:20: *** Start Sampling execution ***\n",
      "    INFO - 15:33:20: Sampling\n",
      "    INFO - 15:33:20:    Disciplines: aerodynamic approach battery climb engine fuel_tank geometry mass mission operating_cost take_off total_mass\n",
      "    INFO - 15:33:20:    MDO formulation: MDF\n",
      "    INFO - 15:33:20: Running the algorithm OT_OPT_LHS:\n",
      "    INFO - 15:33:20:    100%|██████████| 20/20 [00:00<00:00, 70.37 it/sec]\n",
      "    INFO - 15:33:20: *** End Sampling execution (time: 0:00:00.295900) ***\n",
      "    INFO - 15:33:20: *** Start Sampling execution ***\n",
      "    INFO - 15:33:20: Sampling\n",
      "    INFO - 15:33:20:    Disciplines: aerodynamic approach battery climb engine fuel_tank geometry mass mission operating_cost take_off total_mass\n",
      "    INFO - 15:33:20:    MDO formulation: MDF\n",
      "    INFO - 15:33:20: Running the algorithm OT_FULLFACT:\n",
      "    INFO - 15:33:20:    100%|██████████| 16/16 [00:00<00:00, 70.34 it/sec]s not exist; use 16 samples instead, i.e. the largest 4-th integer power less than 20.\n",
      "    INFO - 15:33:20: *** End Sampling execution (time: 0:00:00.230030) ***\n"
     ]
    }
   ],
   "source": [
    "from gemseo import sample_disciplines\n",
    "from gemseo.disciplines.analytic import AnalyticDiscipline\n",
    "from gemseo.disciplines.surrogate import SurrogateDiscipline\n",
    "from numpy import array\n",
    "\n",
    "training_dataset = sample_disciplines(disciplines, design_space, [\"mtom\", \"tofl\", \"vapp\", \"vz\", \"span\", \"length\", \"fm\"], algo_name=\"OT_OPT_LHS\", n_samples=20)\n",
    "\n",
    "test_dataset = sample_disciplines(disciplines, design_space, [\"mtom\", \"tofl\", \"vapp\", \"vz\", \"span\", \"length\", \"fm\"], algo_name=\"OT_FULLFACT\", n_samples=20)"
   ]
  },
  {
   "cell_type": "code",
   "execution_count": 108,
   "metadata": {},
   "outputs": [
    {
     "name": "stdout",
     "output_type": "stream",
     "text": [
      " Testing surrogate: RBF_gaussian_5\n",
      " Testing surrogate: RBF_gaussian_2\n",
      " Testing surrogate: RBF_gaussian_mg\n",
      " Testing surrogate: Polynomial_deg2\n",
      " Testing surrogate: Polynomial_deg2\n",
      "\n",
      "Résultats comparatifs :\n",
      "                     fm  length    mtom    span    tofl    vapp      vz\n",
      "Model                                                                  \n",
      "RBF_gaussian_5   0.9922  0.9991  0.9669  0.9970  0.9481  0.9960  0.9721\n",
      "RBF_gaussian_2   0.9698  0.9723  0.9548  0.9750  0.8798  0.9796  0.9530\n",
      "RBF_gaussian_mg  0.9938  0.9998  0.9663  0.9978  0.9624  0.9970  0.9726\n",
      "Polynomial_deg2  0.9950  1.0000  0.9698  0.9985  0.9586  0.9965  0.9775\n",
      "Polynomial_deg2  0.9924  0.9979  0.9309  0.9931  0.8787  0.9731  0.9432\n"
     ]
    },
    {
     "data": {
      "text/plain": [
       "<Figure size 1200x600 with 0 Axes>"
      ]
     },
     "metadata": {},
     "output_type": "display_data"
    },
    {
     "data": {
      "image/png": "[encoded data removed]",
      "text/plain": [
       "<Figure size 1400x600 with 1 Axes>"
      ]
     },
     "metadata": {},
     "output_type": "display_data"
    }
   ],
   "source": [
    "import pandas as pd\n",
    "import matplotlib.pyplot as plt\n",
    "\n",
    "\n",
    "# Liste des surrogates à tester avec leurs paramètres\n",
    "surrogate_configs = [\n",
    "    {\"name\": \"RBF_gaussian_5\", \"model\": \"RBFRegressor\", \"function\": \"gaussian\", \"epsilon\": 5},\n",
    "    {\"name\": \"RBF_gaussian_2\", \"model\": \"RBFRegressor\", \"function\": \"gaussian\", \"epsilon\": 2},\n",
    "    {\"name\": \"RBF_gaussian_mg\", \"model\": \"RBFRegressor\", \"function\": \"multiquadric\", \"epsilon\": 5},\n",
    "\n",
    "    # {\"name\": \"RBF_thinplate\", \"model\": \"RBFRegressor\", \"function\": \"thin_plate_spline\", \"epsilon\": 2},\n",
    "    # {\"name\": \"Kriging_SE\", \"model\": \"Kriging\", \"correlation\": \"squared_exponential\"},\n",
    "    {\"name\": \"Polynomial_deg2\", \"model\": \"PolynomialRegressor\", \"degree\": 2},\n",
    "    {\"name\": \"Polynomial_deg2\", \"model\": \"PolynomialRegressor\", \"degree\": 3},\n",
    "    # {\"name\": \"SVR_rbf\", \"model\": \"SVR\", \"function\": \"rbf\", \"C\": 1.0, \"epsilon\": 0.1},\n",
    "    # {\"name\": \"RandomForest\", \"model\": \"RandomForest\", \"n_estimators\": 100, \"max_depth\": 10},\n",
    "]\n",
    "\n",
    "results = []\n",
    "\n",
    "for config in surrogate_configs:\n",
    "    name = config[\"name\"]\n",
    "    model_type = config[\"model\"]\n",
    "    kwargs = {k: v for k, v in config.items() if k not in [\"name\", \"model\"]}\n",
    "\n",
    "    print(f\" Testing surrogate: {name}\")\n",
    "    \n",
    "    surrogate = SurrogateDiscipline(model_type, data=training_dataset, **kwargs)\n",
    "    r2 = surrogate.get_error_measure(\"R2Measure\")\n",
    "    test_scores = r2.compute_test_measure(test_dataset, as_dict=True)\n",
    "    \n",
    "    # Format results\n",
    "    flat_scores = {key: float(value) for key, value in test_scores.items()}\n",
    "    flat_scores[\"Model\"] = name\n",
    "    results.append(flat_scores)\n",
    "\n",
    "# Créer un DataFrame pour affichage\n",
    "df_results = pd.DataFrame(results)\n",
    "df_results = df_results.set_index(\"Model\")\n",
    "print(\"\\nRésultats comparatifs :\")\n",
    "print(df_results.round(4)\n",
    ")\n",
    "plt.figure(figsize=(12, 6))\n",
    "df_results.plot(kind=\"bar\", figsize=(14, 6))\n",
    "plt.title(\"Comparaison des surrogates (R² par variable)\")\n",
    "plt.ylabel(\"R²\")\n",
    "plt.ylim(0, 1.05)\n",
    "plt.grid(True, axis='y', linestyle='--', alpha=0.6)\n",
    "plt.legend(title=\"Variable de sortie\", bbox_to_anchor=(1.05, 1), loc='upper left')\n",
    "plt.tight_layout()\n",
    "plt.show()"
   ]
  },
  {
   "cell_type": "code",
   "execution_count": null,
   "metadata": {},
   "outputs": [],
   "source": []
  },
  {
   "cell_type": "code",
   "execution_count": null,
   "metadata": {},
   "outputs": [],
   "source": []
  },
  {
   "cell_type": "code",
   "execution_count": 109,
   "metadata": {},
   "outputs": [],
   "source": [
    "surrogate_discipline = SurrogateDiscipline(\"RBFRegressor\", function = \"multiquadric\", epsilon = 5, data = training_dataset)\n",
    "\n",
    "# the optimum values computed by the optimization\n",
    "# surrogate_discipline.execute({\"slst\": array([150.0]), \"n_pax\": array([150.0]), \"area\": array([180.0]), \"ar\": array([9.0])})"
   ]
  },
  {
   "cell_type": "code",
   "execution_count": 110,
   "metadata": {},
   "outputs": [
    {
     "data": {
      "text/plain": [
       "{'fm': array([1.]),\n",
       " 'length': array([1.]),\n",
       " 'mtom': array([1.]),\n",
       " 'span': array([1.]),\n",
       " 'tofl': array([1.]),\n",
       " 'vapp': array([1.]),\n",
       " 'vz': array([1.])}"
      ]
     },
     "execution_count": 110,
     "metadata": {},
     "output_type": "execute_result"
    }
   ],
   "source": [
    "r2 = surrogate_discipline.get_error_measure(\"R2Measure\")\n",
    "r2.compute_learning_measure(as_dict=True)"
   ]
  },
  {
   "cell_type": "code",
   "execution_count": 111,
   "metadata": {},
   "outputs": [
    {
     "data": {
      "text/plain": [
       "{'fm': array([0.99378531]),\n",
       " 'length': array([0.99982716]),\n",
       " 'mtom': array([0.96629721]),\n",
       " 'span': array([0.99778183]),\n",
       " 'tofl': array([0.96239191]),\n",
       " 'vapp': array([0.99704305]),\n",
       " 'vz': array([0.9726315])}"
      ]
     },
     "execution_count": 111,
     "metadata": {},
     "output_type": "execute_result"
    }
   ],
   "source": [
    "r2.compute_test_measure(test_dataset, as_dict=True)"
   ]
  },
  {
   "cell_type": "code",
   "execution_count": 112,
   "metadata": {},
   "outputs": [
    {
     "data": {
      "text/plain": [
       "{'fm': array([3.38215141e-12]),\n",
       " 'length': array([1.77856951e-12]),\n",
       " 'mtom': array([4.43808225e-08]),\n",
       " 'span': array([3.78990578e-11]),\n",
       " 'tofl': array([3.27352386e-09]),\n",
       " 'vapp': array([4.73346992e-11]),\n",
       " 'vz': array([4.06570554e-11])}"
      ]
     },
     "execution_count": 112,
     "metadata": {},
     "output_type": "execute_result"
    }
   ],
   "source": [
    "rmse = surrogate_discipline.get_error_measure(\"RMSEMeasure\")\n",
    "rmse.compute_learning_measure(as_dict=True)"
   ]
  },
  {
   "cell_type": "code",
   "execution_count": 113,
   "metadata": {},
   "outputs": [
    {
     "data": {
      "text/plain": [
       "{'fm': array([0.08433618]),\n",
       " 'length': array([0.06573397]),\n",
       " 'mtom': array([1119.15181307]),\n",
       " 'span': array([0.72314888]),\n",
       " 'tofl': array([124.48634681]),\n",
       " 'vapp': array([0.53798104]),\n",
       " 'vz': array([1.34030018])}"
      ]
     },
     "execution_count": 113,
     "metadata": {},
     "output_type": "execute_result"
    }
   ],
   "source": [
    "rmse.compute_test_measure(test_dataset, as_dict=True)"
   ]
  },
  {
   "cell_type": "code",
   "execution_count": 115,
   "metadata": {},
   "outputs": [],
   "source": [
    "from gemseo import from_pickle\n",
    "# from gemseo import sample_disciplines\n",
    "from gemseo import to_pickle\n",
    "\n",
    "to_pickle(surrogate_discipline, \"my_surrogate.pkl\")\n"
   ]
  },
  {
   "cell_type": "code",
   "execution_count": null,
   "metadata": {},
   "outputs": [],
   "source": []
  }
 ],
 "metadata": {
  "kernelspec": {
   "display_name": ".venv",
   "language": "python",
   "name": "python3"
  },
  "language_info": {
   "codemirror_mode": {
    "name": "ipython",
    "version": 3
   },
   "file_extension": ".py",
   "mimetype": "text/x-python",
   "name": "python",
   "nbconvert_exporter": "python",
   "pygments_lexer": "ipython3",
   "version": "3.11.7"
  }
 },
 "nbformat": 4,
 "nbformat_minor": 2
}
