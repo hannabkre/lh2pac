{
  "cells": [
    {
      "cell_type": "code",
      "execution_count": null,
      "metadata": {
        "collapsed": false
      },
      "outputs": [],
      "source": [
        "%matplotlib inline"
      ]
    },
    {
      "cell_type": "markdown",
      "metadata": {},
      "source": [
        "\n# Solve an optimization problem\n\nWe want to minimize the Rosenbrock function $f(x,y)=(1-x)^2+100(y-x**2)^2$\nover the domain $[-2,2]^2$.\n"
      ]
    },
    {
      "cell_type": "code",
      "execution_count": null,
      "metadata": {
        "collapsed": false
      },
      "outputs": [],
      "source": [
        "from gemseo import configure_logger\nfrom gemseo.algos.design_space import DesignSpace\nfrom gemseo.disciplines.analytic import AnalyticDiscipline\nfrom gemseo.scenarios.mdo_scenario import MDOScenario"
      ]
    },
    {
      "cell_type": "markdown",
      "metadata": {},
      "source": [
        "Before starting,\nwe activate the logger as an optimization process logs meaningful information.\n\n"
      ]
    },
    {
      "cell_type": "code",
      "execution_count": null,
      "metadata": {
        "collapsed": false
      },
      "outputs": [],
      "source": [
        "configure_logger()"
      ]
    },
    {
      "cell_type": "markdown",
      "metadata": {},
      "source": [
        "Firstly,\nwe define the discipline computing the Rosenbrock function\nand the Euclidean distance to the optimum:\n\n"
      ]
    },
    {
      "cell_type": "code",
      "execution_count": null,
      "metadata": {
        "collapsed": false
      },
      "outputs": [],
      "source": [
        "discipline = AnalyticDiscipline(\n    {\"z\": \"(1-x)**2+100*(y-x**2)**2\", \"c\": \"((x-1)**2+(y-1)**2)**0.5\"},\n    name=\"Rosenbrock\"\n)"
      ]
    },
    {
      "cell_type": "markdown",
      "metadata": {},
      "source": [
        "Then, we create the design space:\n\n"
      ]
    },
    {
      "cell_type": "code",
      "execution_count": null,
      "metadata": {
        "collapsed": false
      },
      "outputs": [],
      "source": [
        "design_space = DesignSpace()\ndesign_space.add_variable(\"x\", lower_bound=-2., upper_bound=2., value=0.)\ndesign_space.add_variable(\"y\", lower_bound=-2., upper_bound=2., value=0.)"
      ]
    },
    {
      "cell_type": "markdown",
      "metadata": {},
      "source": [
        "Thirdly,\nwe put these elements together in a scenario\nto minimize the Rosenbrock function\nunder the constraint that the distance\nbetween the design point and the solution of the unconstrained problem\nis greater or equal to 1.\n\n"
      ]
    },
    {
      "cell_type": "code",
      "execution_count": null,
      "metadata": {
        "collapsed": false
      },
      "outputs": [],
      "source": [
        "scenario = MDOScenario([discipline], \"z\", design_space, formulation_name=\"DisciplinaryOpt\")\nscenario.add_constraint(\"c\", constraint_type=\"ineq\", positive=True, value=1.)"
      ]
    },
    {
      "cell_type": "markdown",
      "metadata": {},
      "source": [
        "!!! note\n\n    GEMSEO is a Python library\n    dedicated to multidisciplinary design optimization (MDO)\n    based on the notion of MDO formulation.\n    This is why the second positional argument `formulation` is mandatory.\n    But when using the scenario with a unique discipline,\n    don't bother and consider `\"DisciplinaryOpt\"`.\n\n"
      ]
    },
    {
      "cell_type": "markdown",
      "metadata": {},
      "source": [
        "before executing it with a gradient-free optimizer:\n\n"
      ]
    },
    {
      "cell_type": "code",
      "execution_count": null,
      "metadata": {
        "collapsed": false
      },
      "outputs": [],
      "source": [
        "scenario.execute(algo_name=\"NLOPT_COBYLA\", max_iter=100)"
      ]
    },
    {
      "cell_type": "markdown",
      "metadata": {},
      "source": [
        "Lastly,\nwe can plot the optimization history:\n\n"
      ]
    },
    {
      "cell_type": "code",
      "execution_count": null,
      "metadata": {
        "collapsed": false
      },
      "outputs": [],
      "source": [
        "scenario.post_process(post_name=\"OptHistoryView\", save=False, show=True)"
      ]
    },
    {
      "cell_type": "markdown",
      "metadata": {},
      "source": [
        "!!! seealso \"More than one discipline\"\n    If you have more than one discipline,\n    the MDF formulation could be helpful.\n    You can have a look to [this exemple](https://gemseo.readthedocs.io/en/stable/examples/formulations/plot_sobieski_mdf_example.html#sphx-glr-examples-formulations-plot-sobieski-mdf-example-py).\n"
      ]
    }
  ],
  "metadata": {
    "kernelspec": {
      "display_name": "Python 3",
      "language": "python",
      "name": "python3"
    },
    "language_info": {
      "codemirror_mode": {
        "name": "ipython",
        "version": 3
      },
      "file_extension": ".py",
      "mimetype": "text/x-python",
      "name": "python",
      "nbconvert_exporter": "python",
      "pygments_lexer": "ipython3",
      "version": "3.10.12"
    }
  },
  "nbformat": 4,
  "nbformat_minor": 0
}